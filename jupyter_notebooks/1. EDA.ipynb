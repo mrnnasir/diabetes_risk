{
  "cells": [
    {
      "cell_type": "markdown",
      "metadata": {
        "id": "0aStgWSO0E0E"
      },
      "source": [
        "# **Diabetes Risk Analysis**"
      ]
    },
    {
      "cell_type": "markdown",
      "metadata": {
        "id": "1eLEkw5O0ECa"
      },
      "source": [
        "## Objectives\n",
        "\n",
        "- Download cardiovascular disease dataset (preprocessed) from kaggle\n",
        "- Load the dataset into a pandas dataframe\n",
        "- Perform basic data exploration\n",
        "\n",
        "\n",
        "## Inputs\n",
        "\n",
        "- **Dataset:** cardio_data_processed.csv. The dataset is available on Kaggle at [Cardiovascular Disease Dataset](https://www.kaggle.com/datasets/sulianova/cardiovascular-disease-dataset).\n",
        "- **Diabetes Risk Percentage:** With the help of ChatGPT, I will calculate the percentage of individuals at risk of diabetes based on the dataset on a separate notebook and merge the results with the main dataset.\n",
        "- **Python Version:** 3.12.8\n",
        "- **Python Libraries:** pandas, numpy, matplotlib, seaborn\n",
        "- **Environment:** Jupyter Notebook or any Python IDE that supports data analysis\n",
        "\n",
        "\n",
        "## Outputs\n",
        "\n",
        "- **Cleaned dataset:**\n",
        "\n",
        "## Additional Comments\n",
        "\n",
        "* If you have any additional comments that don't fit in the previous bullets, please state them here. "
      ]
    },
    {
      "cell_type": "markdown",
      "metadata": {
        "id": "9uWZXH9LwoQg"
      },
      "source": [
        "---"
      ]
    },
    {
      "cell_type": "markdown",
      "metadata": {
        "id": "cqP-UeN-z3i2"
      },
      "source": [
        "# Change working directory"
      ]
    },
    {
      "cell_type": "markdown",
      "metadata": {},
      "source": [
        "* We are assuming you will store the notebooks in a subfolder, therefore when running the notebook in the editor, you will need to change the working directory"
      ]
    },
    {
      "cell_type": "markdown",
      "metadata": {
        "id": "aOGIGS-uz3i2"
      },
      "source": [
        "We need to change the working directory from its current folder to its parent folder\n",
        "* We access the current directory with os.getcwd()"
      ]
    },
    {
      "cell_type": "code",
      "execution_count": 1,
      "metadata": {
        "id": "wZfF_j-Bz3i4",
        "outputId": "66943449-1436-4c3d-85c7-b85f9f78349b"
      },
      "outputs": [
        {
          "data": {
            "text/plain": [
              "'/Users/raihannasir/Documents/DA_AI/diabetes_risk/diabetes_risk/jupyter_notebooks'"
            ]
          },
          "execution_count": 1,
          "metadata": {},
          "output_type": "execute_result"
        }
      ],
      "source": [
        "import os\n",
        "current_dir = os.getcwd()\n",
        "current_dir"
      ]
    },
    {
      "cell_type": "markdown",
      "metadata": {
        "id": "9MWW8E7lz3i7"
      },
      "source": [
        "We want to make the parent of the current directory the new current directory\n",
        "* os.path.dirname() gets the parent directory\n",
        "* os.chir() defines the new current directory"
      ]
    },
    {
      "cell_type": "code",
      "execution_count": 2,
      "metadata": {
        "id": "TwHsQRWjz3i9",
        "outputId": "86849db3-cd2f-4cc5-ebb8-2d0caafa1a2c"
      },
      "outputs": [
        {
          "name": "stdout",
          "output_type": "stream",
          "text": [
            "You set a new current directory\n"
          ]
        }
      ],
      "source": [
        "os.chdir(os.path.dirname(current_dir))\n",
        "print(\"You set a new current directory\")"
      ]
    },
    {
      "cell_type": "markdown",
      "metadata": {
        "id": "M_xPk_Ijz3i-"
      },
      "source": [
        "Confirm the new current directory"
      ]
    },
    {
      "cell_type": "code",
      "execution_count": 3,
      "metadata": {
        "id": "vz3S-_kjz3jA",
        "outputId": "00b79ae4-75d0-4a96-d193-ac9ef9847ea2"
      },
      "outputs": [
        {
          "data": {
            "text/plain": [
              "'/Users/raihannasir/Documents/DA_AI/diabetes_risk/diabetes_risk'"
            ]
          },
          "execution_count": 3,
          "metadata": {},
          "output_type": "execute_result"
        }
      ],
      "source": [
        "current_dir = os.getcwd()\n",
        "current_dir"
      ]
    },
    {
      "cell_type": "markdown",
      "metadata": {
        "id": "-mavJ8DibrcQ"
      },
      "source": [
        "# Import necessary libraries and Packages\n",
        "\n",
        "I will import the necessary libraries and packages including pandas, numpy, matplotlib, and seaborn, which will be used for data analysis and visualization purposes."
      ]
    },
    {
      "cell_type": "code",
      "execution_count": 4,
      "metadata": {},
      "outputs": [],
      "source": [
        "import pandas as pd\n",
        "import numpy as np\n",
        "import matplotlib.pyplot as plt\n",
        "import seaborn as sns"
      ]
    },
    {
      "cell_type": "markdown",
      "metadata": {},
      "source": [
        "## Load the raw dataset"
      ]
    },
    {
      "cell_type": "code",
      "execution_count": 5,
      "metadata": {},
      "outputs": [],
      "source": [
        "raw_path = 'dataset/raw/cardio_data_processed.csv'"
      ]
    },
    {
      "cell_type": "code",
      "execution_count": 6,
      "metadata": {},
      "outputs": [
        {
          "data": {
            "text/html": [
              "<div>\n",
              "<style scoped>\n",
              "    .dataframe tbody tr th:only-of-type {\n",
              "        vertical-align: middle;\n",
              "    }\n",
              "\n",
              "    .dataframe tbody tr th {\n",
              "        vertical-align: top;\n",
              "    }\n",
              "\n",
              "    .dataframe thead th {\n",
              "        text-align: right;\n",
              "    }\n",
              "</style>\n",
              "<table border=\"1\" class=\"dataframe\">\n",
              "  <thead>\n",
              "    <tr style=\"text-align: right;\">\n",
              "      <th></th>\n",
              "      <th>id</th>\n",
              "      <th>age</th>\n",
              "      <th>gender</th>\n",
              "      <th>height</th>\n",
              "      <th>weight</th>\n",
              "      <th>ap_hi</th>\n",
              "      <th>ap_lo</th>\n",
              "      <th>cholesterol</th>\n",
              "      <th>gluc</th>\n",
              "      <th>smoke</th>\n",
              "      <th>alco</th>\n",
              "      <th>active</th>\n",
              "      <th>cardio</th>\n",
              "      <th>age_years</th>\n",
              "      <th>bmi</th>\n",
              "      <th>bp_category</th>\n",
              "      <th>bp_category_encoded</th>\n",
              "    </tr>\n",
              "  </thead>\n",
              "  <tbody>\n",
              "    <tr>\n",
              "      <th>0</th>\n",
              "      <td>0</td>\n",
              "      <td>18393</td>\n",
              "      <td>2</td>\n",
              "      <td>168</td>\n",
              "      <td>62.0</td>\n",
              "      <td>110</td>\n",
              "      <td>80</td>\n",
              "      <td>1</td>\n",
              "      <td>1</td>\n",
              "      <td>0</td>\n",
              "      <td>0</td>\n",
              "      <td>1</td>\n",
              "      <td>0</td>\n",
              "      <td>50</td>\n",
              "      <td>21.967120</td>\n",
              "      <td>Hypertension Stage 1</td>\n",
              "      <td>Hypertension Stage 1</td>\n",
              "    </tr>\n",
              "    <tr>\n",
              "      <th>1</th>\n",
              "      <td>1</td>\n",
              "      <td>20228</td>\n",
              "      <td>1</td>\n",
              "      <td>156</td>\n",
              "      <td>85.0</td>\n",
              "      <td>140</td>\n",
              "      <td>90</td>\n",
              "      <td>3</td>\n",
              "      <td>1</td>\n",
              "      <td>0</td>\n",
              "      <td>0</td>\n",
              "      <td>1</td>\n",
              "      <td>1</td>\n",
              "      <td>55</td>\n",
              "      <td>34.927679</td>\n",
              "      <td>Hypertension Stage 2</td>\n",
              "      <td>Hypertension Stage 2</td>\n",
              "    </tr>\n",
              "    <tr>\n",
              "      <th>2</th>\n",
              "      <td>2</td>\n",
              "      <td>18857</td>\n",
              "      <td>1</td>\n",
              "      <td>165</td>\n",
              "      <td>64.0</td>\n",
              "      <td>130</td>\n",
              "      <td>70</td>\n",
              "      <td>3</td>\n",
              "      <td>1</td>\n",
              "      <td>0</td>\n",
              "      <td>0</td>\n",
              "      <td>0</td>\n",
              "      <td>1</td>\n",
              "      <td>51</td>\n",
              "      <td>23.507805</td>\n",
              "      <td>Hypertension Stage 1</td>\n",
              "      <td>Hypertension Stage 1</td>\n",
              "    </tr>\n",
              "    <tr>\n",
              "      <th>3</th>\n",
              "      <td>3</td>\n",
              "      <td>17623</td>\n",
              "      <td>2</td>\n",
              "      <td>169</td>\n",
              "      <td>82.0</td>\n",
              "      <td>150</td>\n",
              "      <td>100</td>\n",
              "      <td>1</td>\n",
              "      <td>1</td>\n",
              "      <td>0</td>\n",
              "      <td>0</td>\n",
              "      <td>1</td>\n",
              "      <td>1</td>\n",
              "      <td>48</td>\n",
              "      <td>28.710479</td>\n",
              "      <td>Hypertension Stage 2</td>\n",
              "      <td>Hypertension Stage 2</td>\n",
              "    </tr>\n",
              "    <tr>\n",
              "      <th>4</th>\n",
              "      <td>4</td>\n",
              "      <td>17474</td>\n",
              "      <td>1</td>\n",
              "      <td>156</td>\n",
              "      <td>56.0</td>\n",
              "      <td>100</td>\n",
              "      <td>60</td>\n",
              "      <td>1</td>\n",
              "      <td>1</td>\n",
              "      <td>0</td>\n",
              "      <td>0</td>\n",
              "      <td>0</td>\n",
              "      <td>0</td>\n",
              "      <td>47</td>\n",
              "      <td>23.011177</td>\n",
              "      <td>Normal</td>\n",
              "      <td>Normal</td>\n",
              "    </tr>\n",
              "  </tbody>\n",
              "</table>\n",
              "</div>"
            ],
            "text/plain": [
              "   id    age  gender  height  weight  ap_hi  ap_lo  cholesterol  gluc  smoke  \\\n",
              "0   0  18393       2     168    62.0    110     80            1     1      0   \n",
              "1   1  20228       1     156    85.0    140     90            3     1      0   \n",
              "2   2  18857       1     165    64.0    130     70            3     1      0   \n",
              "3   3  17623       2     169    82.0    150    100            1     1      0   \n",
              "4   4  17474       1     156    56.0    100     60            1     1      0   \n",
              "\n",
              "   alco  active  cardio  age_years        bmi           bp_category  \\\n",
              "0     0       1       0         50  21.967120  Hypertension Stage 1   \n",
              "1     0       1       1         55  34.927679  Hypertension Stage 2   \n",
              "2     0       0       1         51  23.507805  Hypertension Stage 1   \n",
              "3     0       1       1         48  28.710479  Hypertension Stage 2   \n",
              "4     0       0       0         47  23.011177                Normal   \n",
              "\n",
              "    bp_category_encoded  \n",
              "0  Hypertension Stage 1  \n",
              "1  Hypertension Stage 2  \n",
              "2  Hypertension Stage 1  \n",
              "3  Hypertension Stage 2  \n",
              "4                Normal  "
            ]
          },
          "execution_count": 6,
          "metadata": {},
          "output_type": "execute_result"
        }
      ],
      "source": [
        "df = pd.read_csv(raw_path)\n",
        "df.head()"
      ]
    },
    {
      "cell_type": "markdown",
      "metadata": {},
      "source": [
        "Using `.info()` method, I will try to explore general information about the structure of the dataset, including the number of entries, column names, data types, non-null counts. This will help identify any missing values or inconsistencies in the dataset."
      ]
    },
    {
      "cell_type": "code",
      "execution_count": 7,
      "metadata": {},
      "outputs": [
        {
          "name": "stdout",
          "output_type": "stream",
          "text": [
            "<class 'pandas.core.frame.DataFrame'>\n",
            "RangeIndex: 68205 entries, 0 to 68204\n",
            "Data columns (total 17 columns):\n",
            " #   Column               Non-Null Count  Dtype  \n",
            "---  ------               --------------  -----  \n",
            " 0   id                   68205 non-null  int64  \n",
            " 1   age                  68205 non-null  int64  \n",
            " 2   gender               68205 non-null  int64  \n",
            " 3   height               68205 non-null  int64  \n",
            " 4   weight               68205 non-null  float64\n",
            " 5   ap_hi                68205 non-null  int64  \n",
            " 6   ap_lo                68205 non-null  int64  \n",
            " 7   cholesterol          68205 non-null  int64  \n",
            " 8   gluc                 68205 non-null  int64  \n",
            " 9   smoke                68205 non-null  int64  \n",
            " 10  alco                 68205 non-null  int64  \n",
            " 11  active               68205 non-null  int64  \n",
            " 12  cardio               68205 non-null  int64  \n",
            " 13  age_years            68205 non-null  int64  \n",
            " 14  bmi                  68205 non-null  float64\n",
            " 15  bp_category          68205 non-null  object \n",
            " 16  bp_category_encoded  68205 non-null  object \n",
            "dtypes: float64(2), int64(13), object(2)\n",
            "memory usage: 8.8+ MB\n"
          ]
        }
      ],
      "source": [
        "df.info()"
      ]
    },
    {
      "cell_type": "markdown",
      "metadata": {},
      "source": [
        "**Initial data screening and exploration:**\n",
        "\n",
        "- Use describe() to summarize the dataset of numerical features.\n",
        "    - Check for missing values, outliers, and basic statistics like mean, median, and standard deviation."
      ]
    },
    {
      "cell_type": "code",
      "execution_count": 8,
      "metadata": {},
      "outputs": [
        {
          "data": {
            "text/html": [
              "<div>\n",
              "<style scoped>\n",
              "    .dataframe tbody tr th:only-of-type {\n",
              "        vertical-align: middle;\n",
              "    }\n",
              "\n",
              "    .dataframe tbody tr th {\n",
              "        vertical-align: top;\n",
              "    }\n",
              "\n",
              "    .dataframe thead th {\n",
              "        text-align: right;\n",
              "    }\n",
              "</style>\n",
              "<table border=\"1\" class=\"dataframe\">\n",
              "  <thead>\n",
              "    <tr style=\"text-align: right;\">\n",
              "      <th></th>\n",
              "      <th>count</th>\n",
              "      <th>mean</th>\n",
              "      <th>std</th>\n",
              "      <th>min</th>\n",
              "      <th>25%</th>\n",
              "      <th>50%</th>\n",
              "      <th>75%</th>\n",
              "      <th>max</th>\n",
              "    </tr>\n",
              "  </thead>\n",
              "  <tbody>\n",
              "    <tr>\n",
              "      <th>id</th>\n",
              "      <td>68205.0</td>\n",
              "      <td>49972.410498</td>\n",
              "      <td>28852.138290</td>\n",
              "      <td>0.000000</td>\n",
              "      <td>24991.000000</td>\n",
              "      <td>50008.000000</td>\n",
              "      <td>74878.000000</td>\n",
              "      <td>99999.000000</td>\n",
              "    </tr>\n",
              "    <tr>\n",
              "      <th>age</th>\n",
              "      <td>68205.0</td>\n",
              "      <td>19462.667737</td>\n",
              "      <td>2468.381854</td>\n",
              "      <td>10798.000000</td>\n",
              "      <td>17656.000000</td>\n",
              "      <td>19700.000000</td>\n",
              "      <td>21323.000000</td>\n",
              "      <td>23713.000000</td>\n",
              "    </tr>\n",
              "    <tr>\n",
              "      <th>gender</th>\n",
              "      <td>68205.0</td>\n",
              "      <td>1.348625</td>\n",
              "      <td>0.476539</td>\n",
              "      <td>1.000000</td>\n",
              "      <td>1.000000</td>\n",
              "      <td>1.000000</td>\n",
              "      <td>2.000000</td>\n",
              "      <td>2.000000</td>\n",
              "    </tr>\n",
              "    <tr>\n",
              "      <th>height</th>\n",
              "      <td>68205.0</td>\n",
              "      <td>164.372861</td>\n",
              "      <td>8.176756</td>\n",
              "      <td>55.000000</td>\n",
              "      <td>159.000000</td>\n",
              "      <td>165.000000</td>\n",
              "      <td>170.000000</td>\n",
              "      <td>250.000000</td>\n",
              "    </tr>\n",
              "    <tr>\n",
              "      <th>weight</th>\n",
              "      <td>68205.0</td>\n",
              "      <td>74.100688</td>\n",
              "      <td>14.288862</td>\n",
              "      <td>11.000000</td>\n",
              "      <td>65.000000</td>\n",
              "      <td>72.000000</td>\n",
              "      <td>82.000000</td>\n",
              "      <td>200.000000</td>\n",
              "    </tr>\n",
              "    <tr>\n",
              "      <th>ap_hi</th>\n",
              "      <td>68205.0</td>\n",
              "      <td>126.434924</td>\n",
              "      <td>15.961685</td>\n",
              "      <td>90.000000</td>\n",
              "      <td>120.000000</td>\n",
              "      <td>120.000000</td>\n",
              "      <td>140.000000</td>\n",
              "      <td>180.000000</td>\n",
              "    </tr>\n",
              "    <tr>\n",
              "      <th>ap_lo</th>\n",
              "      <td>68205.0</td>\n",
              "      <td>81.263925</td>\n",
              "      <td>9.143985</td>\n",
              "      <td>60.000000</td>\n",
              "      <td>80.000000</td>\n",
              "      <td>80.000000</td>\n",
              "      <td>90.000000</td>\n",
              "      <td>120.000000</td>\n",
              "    </tr>\n",
              "    <tr>\n",
              "      <th>cholesterol</th>\n",
              "      <td>68205.0</td>\n",
              "      <td>1.363243</td>\n",
              "      <td>0.678080</td>\n",
              "      <td>1.000000</td>\n",
              "      <td>1.000000</td>\n",
              "      <td>1.000000</td>\n",
              "      <td>1.000000</td>\n",
              "      <td>3.000000</td>\n",
              "    </tr>\n",
              "    <tr>\n",
              "      <th>gluc</th>\n",
              "      <td>68205.0</td>\n",
              "      <td>1.225174</td>\n",
              "      <td>0.571288</td>\n",
              "      <td>1.000000</td>\n",
              "      <td>1.000000</td>\n",
              "      <td>1.000000</td>\n",
              "      <td>1.000000</td>\n",
              "      <td>3.000000</td>\n",
              "    </tr>\n",
              "    <tr>\n",
              "      <th>smoke</th>\n",
              "      <td>68205.0</td>\n",
              "      <td>0.087662</td>\n",
              "      <td>0.282805</td>\n",
              "      <td>0.000000</td>\n",
              "      <td>0.000000</td>\n",
              "      <td>0.000000</td>\n",
              "      <td>0.000000</td>\n",
              "      <td>1.000000</td>\n",
              "    </tr>\n",
              "    <tr>\n",
              "      <th>alco</th>\n",
              "      <td>68205.0</td>\n",
              "      <td>0.053134</td>\n",
              "      <td>0.224302</td>\n",
              "      <td>0.000000</td>\n",
              "      <td>0.000000</td>\n",
              "      <td>0.000000</td>\n",
              "      <td>0.000000</td>\n",
              "      <td>1.000000</td>\n",
              "    </tr>\n",
              "    <tr>\n",
              "      <th>active</th>\n",
              "      <td>68205.0</td>\n",
              "      <td>0.803548</td>\n",
              "      <td>0.397317</td>\n",
              "      <td>0.000000</td>\n",
              "      <td>1.000000</td>\n",
              "      <td>1.000000</td>\n",
              "      <td>1.000000</td>\n",
              "      <td>1.000000</td>\n",
              "    </tr>\n",
              "    <tr>\n",
              "      <th>cardio</th>\n",
              "      <td>68205.0</td>\n",
              "      <td>0.493688</td>\n",
              "      <td>0.499964</td>\n",
              "      <td>0.000000</td>\n",
              "      <td>0.000000</td>\n",
              "      <td>0.000000</td>\n",
              "      <td>1.000000</td>\n",
              "      <td>1.000000</td>\n",
              "    </tr>\n",
              "    <tr>\n",
              "      <th>age_years</th>\n",
              "      <td>68205.0</td>\n",
              "      <td>52.823635</td>\n",
              "      <td>6.769909</td>\n",
              "      <td>29.000000</td>\n",
              "      <td>48.000000</td>\n",
              "      <td>53.000000</td>\n",
              "      <td>58.000000</td>\n",
              "      <td>64.000000</td>\n",
              "    </tr>\n",
              "    <tr>\n",
              "      <th>bmi</th>\n",
              "      <td>68205.0</td>\n",
              "      <td>27.510513</td>\n",
              "      <td>6.026497</td>\n",
              "      <td>3.471784</td>\n",
              "      <td>23.875115</td>\n",
              "      <td>26.346494</td>\n",
              "      <td>30.116213</td>\n",
              "      <td>298.666667</td>\n",
              "    </tr>\n",
              "  </tbody>\n",
              "</table>\n",
              "</div>"
            ],
            "text/plain": [
              "               count          mean           std           min           25%  \\\n",
              "id           68205.0  49972.410498  28852.138290      0.000000  24991.000000   \n",
              "age          68205.0  19462.667737   2468.381854  10798.000000  17656.000000   \n",
              "gender       68205.0      1.348625      0.476539      1.000000      1.000000   \n",
              "height       68205.0    164.372861      8.176756     55.000000    159.000000   \n",
              "weight       68205.0     74.100688     14.288862     11.000000     65.000000   \n",
              "ap_hi        68205.0    126.434924     15.961685     90.000000    120.000000   \n",
              "ap_lo        68205.0     81.263925      9.143985     60.000000     80.000000   \n",
              "cholesterol  68205.0      1.363243      0.678080      1.000000      1.000000   \n",
              "gluc         68205.0      1.225174      0.571288      1.000000      1.000000   \n",
              "smoke        68205.0      0.087662      0.282805      0.000000      0.000000   \n",
              "alco         68205.0      0.053134      0.224302      0.000000      0.000000   \n",
              "active       68205.0      0.803548      0.397317      0.000000      1.000000   \n",
              "cardio       68205.0      0.493688      0.499964      0.000000      0.000000   \n",
              "age_years    68205.0     52.823635      6.769909     29.000000     48.000000   \n",
              "bmi          68205.0     27.510513      6.026497      3.471784     23.875115   \n",
              "\n",
              "                      50%           75%           max  \n",
              "id           50008.000000  74878.000000  99999.000000  \n",
              "age          19700.000000  21323.000000  23713.000000  \n",
              "gender           1.000000      2.000000      2.000000  \n",
              "height         165.000000    170.000000    250.000000  \n",
              "weight          72.000000     82.000000    200.000000  \n",
              "ap_hi          120.000000    140.000000    180.000000  \n",
              "ap_lo           80.000000     90.000000    120.000000  \n",
              "cholesterol      1.000000      1.000000      3.000000  \n",
              "gluc             1.000000      1.000000      3.000000  \n",
              "smoke            0.000000      0.000000      1.000000  \n",
              "alco             0.000000      0.000000      1.000000  \n",
              "active           1.000000      1.000000      1.000000  \n",
              "cardio           0.000000      1.000000      1.000000  \n",
              "age_years       53.000000     58.000000     64.000000  \n",
              "bmi             26.346494     30.116213    298.666667  "
            ]
          },
          "execution_count": 8,
          "metadata": {},
          "output_type": "execute_result"
        }
      ],
      "source": [
        "df.describe().T"
      ]
    },
    {
      "cell_type": "markdown",
      "metadata": {},
      "source": [
        "- Use describe(include='object') to summarize the dataset of categorical features.\n",
        "    - Check for number of unique values, the most frequent value and number of times it appears."
      ]
    },
    {
      "cell_type": "code",
      "execution_count": 9,
      "metadata": {},
      "outputs": [
        {
          "data": {
            "text/html": [
              "<div>\n",
              "<style scoped>\n",
              "    .dataframe tbody tr th:only-of-type {\n",
              "        vertical-align: middle;\n",
              "    }\n",
              "\n",
              "    .dataframe tbody tr th {\n",
              "        vertical-align: top;\n",
              "    }\n",
              "\n",
              "    .dataframe thead th {\n",
              "        text-align: right;\n",
              "    }\n",
              "</style>\n",
              "<table border=\"1\" class=\"dataframe\">\n",
              "  <thead>\n",
              "    <tr style=\"text-align: right;\">\n",
              "      <th></th>\n",
              "      <th>count</th>\n",
              "      <th>unique</th>\n",
              "      <th>top</th>\n",
              "      <th>freq</th>\n",
              "    </tr>\n",
              "  </thead>\n",
              "  <tbody>\n",
              "    <tr>\n",
              "      <th>bp_category</th>\n",
              "      <td>68205</td>\n",
              "      <td>4</td>\n",
              "      <td>Hypertension Stage 1</td>\n",
              "      <td>39750</td>\n",
              "    </tr>\n",
              "    <tr>\n",
              "      <th>bp_category_encoded</th>\n",
              "      <td>68205</td>\n",
              "      <td>4</td>\n",
              "      <td>Hypertension Stage 1</td>\n",
              "      <td>39750</td>\n",
              "    </tr>\n",
              "  </tbody>\n",
              "</table>\n",
              "</div>"
            ],
            "text/plain": [
              "                     count unique                   top   freq\n",
              "bp_category          68205      4  Hypertension Stage 1  39750\n",
              "bp_category_encoded  68205      4  Hypertension Stage 1  39750"
            ]
          },
          "execution_count": 9,
          "metadata": {},
          "output_type": "execute_result"
        }
      ],
      "source": [
        "df.describe(include='object').T"
      ]
    },
    {
      "cell_type": "code",
      "execution_count": null,
      "metadata": {},
      "outputs": [],
      "source": []
    },
    {
      "cell_type": "markdown",
      "metadata": {
        "id": "ZY3l0-AxO93d"
      },
      "source": [
        "---"
      ]
    },
    {
      "cell_type": "markdown",
      "metadata": {},
      "source": [
        "---"
      ]
    },
    {
      "cell_type": "markdown",
      "metadata": {},
      "source": [
        "NOTE"
      ]
    },
    {
      "cell_type": "markdown",
      "metadata": {},
      "source": [
        "* You may add as many sections as you want, as long as it supports your project workflow.\n",
        "* All notebook's cells should be run top-down (you can't create a dynamic wherein a given point you need to go back to a previous cell to execute some task, like go back to a previous cell and refresh a variable content)"
      ]
    },
    {
      "cell_type": "markdown",
      "metadata": {},
      "source": [
        "---"
      ]
    },
    {
      "cell_type": "markdown",
      "metadata": {
        "id": "ltNetd085qHf"
      },
      "source": [
        "# Push files to Repo"
      ]
    },
    {
      "cell_type": "markdown",
      "metadata": {},
      "source": [
        "* In cases where you don't need to push files to Repo, you may replace this section with \"Conclusions and Next Steps\" and state your conclusions and next steps."
      ]
    },
    {
      "cell_type": "code",
      "execution_count": null,
      "metadata": {
        "id": "aKlnIozA4eQO",
        "outputId": "fd09bc1f-adb1-4511-f6ce-492a6af570c0"
      },
      "outputs": [],
      "source": [
        "import os\n",
        "try:\n",
        "  # create your folder here\n",
        "  # os.makedirs(name='')\n",
        "except Exception as e:\n",
        "  print(e)\n"
      ]
    }
  ],
  "metadata": {
    "accelerator": "GPU",
    "colab": {
      "name": "Data Practitioner Jupyter Notebook.ipynb",
      "provenance": [],
      "toc_visible": true
    },
    "kernelspec": {
      "display_name": ".venv",
      "language": "python",
      "name": "python3"
    },
    "language_info": {
      "codemirror_mode": {
        "name": "ipython",
        "version": 3
      },
      "file_extension": ".py",
      "mimetype": "text/x-python",
      "name": "python",
      "nbconvert_exporter": "python",
      "pygments_lexer": "ipython3",
      "version": "3.12.8"
    },
    "orig_nbformat": 2
  },
  "nbformat": 4,
  "nbformat_minor": 2
}
