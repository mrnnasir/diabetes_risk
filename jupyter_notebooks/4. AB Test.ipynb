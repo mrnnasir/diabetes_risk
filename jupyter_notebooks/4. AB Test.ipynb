{
  "cells": [
    {
      "cell_type": "markdown",
      "metadata": {
        "id": "0aStgWSO0E0E"
      },
      "source": [
        "# # **Diabetes Risk Analysis - AB Testing**"
      ]
    },
    {
      "cell_type": "markdown",
      "metadata": {
        "id": "1eLEkw5O0ECa"
      },
      "source": [
        "## Objectives\n",
        "\n",
        "- Investigate if there is any impact of physical activity on diabetes risk.\n",
        "\n",
        "## Inputs\n",
        "\n",
        "- Dataset: `cardio_data_with_diabetes_risk_clean.csv`\n",
        "\n",
        "## Outputs\n",
        "\n",
        "* Write here which files, code or artefacts you generate by the end of the notebook \n",
        "\n"
      ]
    },
    {
      "cell_type": "markdown",
      "metadata": {
        "id": "9uWZXH9LwoQg"
      },
      "source": [
        "---"
      ]
    },
    {
      "cell_type": "markdown",
      "metadata": {
        "id": "cqP-UeN-z3i2"
      },
      "source": [
        "# Change working directory"
      ]
    },
    {
      "cell_type": "markdown",
      "metadata": {},
      "source": [
        "* We are assuming you will store the notebooks in a subfolder, therefore when running the notebook in the editor, you will need to change the working directory"
      ]
    },
    {
      "cell_type": "markdown",
      "metadata": {
        "id": "aOGIGS-uz3i2"
      },
      "source": [
        "We need to change the working directory from its current folder to its parent folder\n",
        "* We access the current directory with os.getcwd()"
      ]
    },
    {
      "cell_type": "code",
      "execution_count": 2,
      "metadata": {
        "id": "wZfF_j-Bz3i4",
        "outputId": "66943449-1436-4c3d-85c7-b85f9f78349b"
      },
      "outputs": [
        {
          "data": {
            "text/plain": [
              "'/Users/raihannasir/Documents/DA_AI/diabetes_risk/diabetes_risk/jupyter_notebooks'"
            ]
          },
          "execution_count": 2,
          "metadata": {},
          "output_type": "execute_result"
        }
      ],
      "source": [
        "import os\n",
        "current_dir = os.getcwd()\n",
        "current_dir"
      ]
    },
    {
      "cell_type": "markdown",
      "metadata": {
        "id": "9MWW8E7lz3i7"
      },
      "source": [
        "We want to make the parent of the current directory the new current directory\n",
        "* os.path.dirname() gets the parent directory\n",
        "* os.chir() defines the new current directory"
      ]
    },
    {
      "cell_type": "code",
      "execution_count": 3,
      "metadata": {
        "id": "TwHsQRWjz3i9",
        "outputId": "86849db3-cd2f-4cc5-ebb8-2d0caafa1a2c"
      },
      "outputs": [
        {
          "name": "stdout",
          "output_type": "stream",
          "text": [
            "You set a new current directory\n"
          ]
        }
      ],
      "source": [
        "os.chdir(os.path.dirname(current_dir))\n",
        "print(\"You set a new current directory\")"
      ]
    },
    {
      "cell_type": "markdown",
      "metadata": {
        "id": "M_xPk_Ijz3i-"
      },
      "source": [
        "Confirm the new current directory"
      ]
    },
    {
      "cell_type": "code",
      "execution_count": 4,
      "metadata": {
        "id": "vz3S-_kjz3jA",
        "outputId": "00b79ae4-75d0-4a96-d193-ac9ef9847ea2"
      },
      "outputs": [
        {
          "data": {
            "text/plain": [
              "'/Users/raihannasir/Documents/DA_AI/diabetes_risk/diabetes_risk'"
            ]
          },
          "execution_count": 4,
          "metadata": {},
          "output_type": "execute_result"
        }
      ],
      "source": [
        "current_dir = os.getcwd()\n",
        "current_dir"
      ]
    },
    {
      "cell_type": "markdown",
      "metadata": {
        "id": "ZY3l0-AxO93d"
      },
      "source": [
        "---"
      ]
    },
    {
      "cell_type": "markdown",
      "metadata": {
        "id": "-mavJ8DibrcQ"
      },
      "source": [
        "## Load necessary libraries"
      ]
    },
    {
      "cell_type": "code",
      "execution_count": 20,
      "metadata": {},
      "outputs": [],
      "source": [
        "import pandas as pd\n",
        "import numpy as np\n",
        "import pingouin as pg\n",
        "import matplotlib.pyplot as plt\n",
        "import seaborn as sns\n",
        "\n"
      ]
    },
    {
      "cell_type": "markdown",
      "metadata": {
        "id": "uFQo3ycuO-v6"
      },
      "source": [
        "## Load cleaned dataset for AB testing"
      ]
    },
    {
      "cell_type": "code",
      "execution_count": 6,
      "metadata": {},
      "outputs": [
        {
          "data": {
            "text/html": [
              "<div>\n",
              "<style scoped>\n",
              "    .dataframe tbody tr th:only-of-type {\n",
              "        vertical-align: middle;\n",
              "    }\n",
              "\n",
              "    .dataframe tbody tr th {\n",
              "        vertical-align: top;\n",
              "    }\n",
              "\n",
              "    .dataframe thead th {\n",
              "        text-align: right;\n",
              "    }\n",
              "</style>\n",
              "<table border=\"1\" class=\"dataframe\">\n",
              "  <thead>\n",
              "    <tr style=\"text-align: right;\">\n",
              "      <th></th>\n",
              "      <th>gender</th>\n",
              "      <th>height</th>\n",
              "      <th>weight</th>\n",
              "      <th>ap_hi</th>\n",
              "      <th>ap_lo</th>\n",
              "      <th>cholesterol</th>\n",
              "      <th>gluc</th>\n",
              "      <th>smoke</th>\n",
              "      <th>alco</th>\n",
              "      <th>active</th>\n",
              "      <th>...</th>\n",
              "      <th>age_group</th>\n",
              "      <th>bmi_category</th>\n",
              "      <th>age_simp_group</th>\n",
              "      <th>bmi_simp_cat</th>\n",
              "      <th>diab_risk_percent</th>\n",
              "      <th>diab_risk_cat</th>\n",
              "      <th>age_group_num</th>\n",
              "      <th>bmi_category_num</th>\n",
              "      <th>bp_category_num</th>\n",
              "      <th>diab_risk_cat_num</th>\n",
              "    </tr>\n",
              "  </thead>\n",
              "  <tbody>\n",
              "    <tr>\n",
              "      <th>0</th>\n",
              "      <td>2</td>\n",
              "      <td>168</td>\n",
              "      <td>4.127134</td>\n",
              "      <td>110</td>\n",
              "      <td>80</td>\n",
              "      <td>1</td>\n",
              "      <td>1</td>\n",
              "      <td>0</td>\n",
              "      <td>0</td>\n",
              "      <td>1</td>\n",
              "      <td>...</td>\n",
              "      <td>50-59</td>\n",
              "      <td>Normal</td>\n",
              "      <td>Middle-aged</td>\n",
              "      <td>Low BMI</td>\n",
              "      <td>16.15</td>\n",
              "      <td>Low Risk</td>\n",
              "      <td>3</td>\n",
              "      <td>1</td>\n",
              "      <td>2</td>\n",
              "      <td>0</td>\n",
              "    </tr>\n",
              "    <tr>\n",
              "      <th>1</th>\n",
              "      <td>1</td>\n",
              "      <td>156</td>\n",
              "      <td>4.442651</td>\n",
              "      <td>140</td>\n",
              "      <td>90</td>\n",
              "      <td>3</td>\n",
              "      <td>1</td>\n",
              "      <td>0</td>\n",
              "      <td>0</td>\n",
              "      <td>1</td>\n",
              "      <td>...</td>\n",
              "      <td>50-59</td>\n",
              "      <td>Obese I</td>\n",
              "      <td>Middle-aged</td>\n",
              "      <td>Mid BMI</td>\n",
              "      <td>57.50</td>\n",
              "      <td>High Risk</td>\n",
              "      <td>3</td>\n",
              "      <td>3</td>\n",
              "      <td>3</td>\n",
              "      <td>2</td>\n",
              "    </tr>\n",
              "    <tr>\n",
              "      <th>2</th>\n",
              "      <td>1</td>\n",
              "      <td>165</td>\n",
              "      <td>4.158883</td>\n",
              "      <td>130</td>\n",
              "      <td>70</td>\n",
              "      <td>3</td>\n",
              "      <td>1</td>\n",
              "      <td>0</td>\n",
              "      <td>0</td>\n",
              "      <td>0</td>\n",
              "      <td>...</td>\n",
              "      <td>50-59</td>\n",
              "      <td>Normal</td>\n",
              "      <td>Middle-aged</td>\n",
              "      <td>Low BMI</td>\n",
              "      <td>18.21</td>\n",
              "      <td>Low Risk</td>\n",
              "      <td>3</td>\n",
              "      <td>1</td>\n",
              "      <td>2</td>\n",
              "      <td>0</td>\n",
              "    </tr>\n",
              "    <tr>\n",
              "      <th>3</th>\n",
              "      <td>2</td>\n",
              "      <td>169</td>\n",
              "      <td>4.406719</td>\n",
              "      <td>150</td>\n",
              "      <td>100</td>\n",
              "      <td>1</td>\n",
              "      <td>1</td>\n",
              "      <td>0</td>\n",
              "      <td>0</td>\n",
              "      <td>1</td>\n",
              "      <td>...</td>\n",
              "      <td>40-49</td>\n",
              "      <td>Overweight</td>\n",
              "      <td>Middle-aged</td>\n",
              "      <td>Mid BMI</td>\n",
              "      <td>19.62</td>\n",
              "      <td>Low Risk</td>\n",
              "      <td>2</td>\n",
              "      <td>2</td>\n",
              "      <td>3</td>\n",
              "      <td>0</td>\n",
              "    </tr>\n",
              "    <tr>\n",
              "      <th>4</th>\n",
              "      <td>1</td>\n",
              "      <td>156</td>\n",
              "      <td>4.025352</td>\n",
              "      <td>100</td>\n",
              "      <td>60</td>\n",
              "      <td>1</td>\n",
              "      <td>1</td>\n",
              "      <td>0</td>\n",
              "      <td>0</td>\n",
              "      <td>0</td>\n",
              "      <td>...</td>\n",
              "      <td>40-49</td>\n",
              "      <td>Normal</td>\n",
              "      <td>Middle-aged</td>\n",
              "      <td>Low BMI</td>\n",
              "      <td>9.76</td>\n",
              "      <td>Low Risk</td>\n",
              "      <td>2</td>\n",
              "      <td>1</td>\n",
              "      <td>0</td>\n",
              "      <td>0</td>\n",
              "    </tr>\n",
              "  </tbody>\n",
              "</table>\n",
              "<p>5 rows × 24 columns</p>\n",
              "</div>"
            ],
            "text/plain": [
              "   gender  height    weight  ap_hi  ap_lo  cholesterol  gluc  smoke  alco  \\\n",
              "0       2     168  4.127134    110     80            1     1      0     0   \n",
              "1       1     156  4.442651    140     90            3     1      0     0   \n",
              "2       1     165  4.158883    130     70            3     1      0     0   \n",
              "3       2     169  4.406719    150    100            1     1      0     0   \n",
              "4       1     156  4.025352    100     60            1     1      0     0   \n",
              "\n",
              "   active  ...  age_group  bmi_category  age_simp_group bmi_simp_cat  \\\n",
              "0       1  ...      50-59        Normal     Middle-aged      Low BMI   \n",
              "1       1  ...      50-59       Obese I     Middle-aged      Mid BMI   \n",
              "2       0  ...      50-59        Normal     Middle-aged      Low BMI   \n",
              "3       1  ...      40-49    Overweight     Middle-aged      Mid BMI   \n",
              "4       0  ...      40-49        Normal     Middle-aged      Low BMI   \n",
              "\n",
              "  diab_risk_percent diab_risk_cat age_group_num bmi_category_num  \\\n",
              "0             16.15      Low Risk             3                1   \n",
              "1             57.50     High Risk             3                3   \n",
              "2             18.21      Low Risk             3                1   \n",
              "3             19.62      Low Risk             2                2   \n",
              "4              9.76      Low Risk             2                1   \n",
              "\n",
              "   bp_category_num diab_risk_cat_num  \n",
              "0                2                 0  \n",
              "1                3                 2  \n",
              "2                2                 0  \n",
              "3                3                 0  \n",
              "4                0                 0  \n",
              "\n",
              "[5 rows x 24 columns]"
            ]
          },
          "execution_count": 6,
          "metadata": {},
          "output_type": "execute_result"
        }
      ],
      "source": [
        "path = 'dataset/cleaned/cardio_data_with_diabetes_risk_clean.csv'\n",
        "df = pd.read_csv(path)\n",
        "df.head()"
      ]
    },
    {
      "cell_type": "markdown",
      "metadata": {},
      "source": [
        "---"
      ]
    },
    {
      "cell_type": "markdown",
      "metadata": {},
      "source": [
        "As I see in the heatmap, there is ***-0.014880*** correlation between `active` and `diabetes_risk_percentage`, indicating that there is a very weak negative correlation between physical activity and diabetes risk percentage. This suggests that being physically active does not have a significant impact on reducing diabetes risk in this dataset. However, this seems strange and counterintuitive, as physical activity is generally known to reduce the risk of diabetes. \n",
        "\n",
        "Therefore, I feel the need to perform a `AB Test` to investigate if physical inactivity has impact on the diabetes risk."
      ]
    },
    {
      "cell_type": "markdown",
      "metadata": {},
      "source": [
        "## A/B Testing to check the impact of Physical Activity on Risk of Diabetes\n",
        "\n",
        "* ***Null Hypothesis (H<sub>0</sub>)***:\n",
        "  * Average percentage of diabetes risk is the same for both groups.\n",
        "* ***Alternative Hypothesis (H<sub>1</sub>)***:\n",
        "  * Average percentage of diabetes risk is higher for the group with no physical activity.\n",
        "\n",
        "\n",
        "- Due to the reason of fairly big dataset, I have taken **2000** samples from the dataset in order to perform `A/B testing`."
      ]
    },
    {
      "cell_type": "code",
      "execution_count": 26,
      "metadata": {},
      "outputs": [],
      "source": [
        "size = 2000\n",
        "\n",
        "active_grp = df[df['active'] == 1].sample(size, random_state=42)['diab_risk_percent'].reset_index(drop=True)\n",
        "inactive_grp = df[df['active'] == 0].sample(size, random_state=42)['diab_risk_percent'].reset_index(drop=True)"
      ]
    },
    {
      "cell_type": "markdown",
      "metadata": {},
      "source": [
        "**Details:**\n",
        "\n",
        "- `size = 2000`: Sets the sample size for each group.\n",
        "- `active_grp`: Randomly samples 2000 individuals who are physically active (`active == 1`) and extracts their `diab_risk_percent`.\n",
        "- `inactive_grp`: Randomly samples 2000 individuals who are physically inactive (`active == 0`) and extracts their `diab_risk_percent`.\n",
        "- Both groups use the same `random_state` for reproducibility and `reset_index(drop=True)` to align indices for paired analysis.\n",
        "- These samples are used for initial A/B testing to compare diabetes risk between active and inactive groups."
      ]
    },
    {
      "cell_type": "code",
      "execution_count": 36,
      "metadata": {},
      "outputs": [
        {
          "data": {
            "text/html": [
              "<div>\n",
              "<style scoped>\n",
              "    .dataframe tbody tr th:only-of-type {\n",
              "        vertical-align: middle;\n",
              "    }\n",
              "\n",
              "    .dataframe tbody tr th {\n",
              "        vertical-align: top;\n",
              "    }\n",
              "\n",
              "    .dataframe thead th {\n",
              "        text-align: right;\n",
              "    }\n",
              "</style>\n",
              "<table border=\"1\" class=\"dataframe\">\n",
              "  <thead>\n",
              "    <tr style=\"text-align: right;\">\n",
              "      <th></th>\n",
              "      <th>phy_active</th>\n",
              "      <th>phy_inactive</th>\n",
              "      <th>difference</th>\n",
              "    </tr>\n",
              "  </thead>\n",
              "  <tbody>\n",
              "    <tr>\n",
              "      <th>0</th>\n",
              "      <td>14.01</td>\n",
              "      <td>13.43</td>\n",
              "      <td>0.58</td>\n",
              "    </tr>\n",
              "    <tr>\n",
              "      <th>1</th>\n",
              "      <td>29.70</td>\n",
              "      <td>13.79</td>\n",
              "      <td>15.91</td>\n",
              "    </tr>\n",
              "    <tr>\n",
              "      <th>2</th>\n",
              "      <td>52.13</td>\n",
              "      <td>22.98</td>\n",
              "      <td>29.15</td>\n",
              "    </tr>\n",
              "    <tr>\n",
              "      <th>3</th>\n",
              "      <td>49.16</td>\n",
              "      <td>6.15</td>\n",
              "      <td>43.01</td>\n",
              "    </tr>\n",
              "    <tr>\n",
              "      <th>4</th>\n",
              "      <td>12.13</td>\n",
              "      <td>36.96</td>\n",
              "      <td>-24.83</td>\n",
              "    </tr>\n",
              "    <tr>\n",
              "      <th>...</th>\n",
              "      <td>...</td>\n",
              "      <td>...</td>\n",
              "      <td>...</td>\n",
              "    </tr>\n",
              "    <tr>\n",
              "      <th>12995</th>\n",
              "      <td>20.02</td>\n",
              "      <td>11.38</td>\n",
              "      <td>8.64</td>\n",
              "    </tr>\n",
              "    <tr>\n",
              "      <th>12996</th>\n",
              "      <td>37.61</td>\n",
              "      <td>17.02</td>\n",
              "      <td>20.59</td>\n",
              "    </tr>\n",
              "    <tr>\n",
              "      <th>12997</th>\n",
              "      <td>51.09</td>\n",
              "      <td>15.45</td>\n",
              "      <td>35.64</td>\n",
              "    </tr>\n",
              "    <tr>\n",
              "      <th>12998</th>\n",
              "      <td>30.93</td>\n",
              "      <td>55.19</td>\n",
              "      <td>-24.26</td>\n",
              "    </tr>\n",
              "    <tr>\n",
              "      <th>12999</th>\n",
              "      <td>13.18</td>\n",
              "      <td>32.97</td>\n",
              "      <td>-19.79</td>\n",
              "    </tr>\n",
              "  </tbody>\n",
              "</table>\n",
              "<p>13000 rows × 3 columns</p>\n",
              "</div>"
            ],
            "text/plain": [
              "       phy_active  phy_inactive  difference\n",
              "0           14.01         13.43        0.58\n",
              "1           29.70         13.79       15.91\n",
              "2           52.13         22.98       29.15\n",
              "3           49.16          6.15       43.01\n",
              "4           12.13         36.96      -24.83\n",
              "...           ...           ...         ...\n",
              "12995       20.02         11.38        8.64\n",
              "12996       37.61         17.02       20.59\n",
              "12997       51.09         15.45       35.64\n",
              "12998       30.93         55.19      -24.26\n",
              "12999       13.18         32.97      -19.79\n",
              "\n",
              "[13000 rows x 3 columns]"
            ]
          },
          "execution_count": 36,
          "metadata": {},
          "output_type": "execute_result"
        }
      ],
      "source": [
        "# Create a DataFrame with the two groups and their differences to determine the sample size\n",
        "\n",
        "sample_check = pd.DataFrame({\n",
        "    'phy_active': active_grp,\n",
        "    'phy_inactive': inactive_grp\n",
        "})\n",
        "\n",
        "sample_check['difference'] = sample_check['phy_active'] - sample_check['phy_inactive']\n",
        "sample_check"
      ]
    },
    {
      "cell_type": "markdown",
      "metadata": {},
      "source": [
        "**Details:**\n",
        "\n",
        "- `sample_check` is a DataFrame containing 2000 samples each from physically active (`phy_active`) and inactive (`phy_inactive`) groups.\n",
        "- The `difference` column represents the difference in diabetes risk percentage between each paired sample (active - inactive).\n",
        "- This DataFrame is used for initial exploratory analysis and normality testing before determining the required sample size for robust A/B testing.\n",
        "- The sample size of 2000 was chosen for this preliminary check, but later analysis suggests a larger sample is needed for statistical power."
      ]
    },
    {
      "cell_type": "markdown",
      "metadata": {},
      "source": [
        "## Perform sample size calculation for A/B testing"
      ]
    },
    {
      "cell_type": "code",
      "execution_count": 31,
      "metadata": {},
      "outputs": [
        {
          "data": {
            "text/plain": [
              "count    2000.000000\n",
              "mean       -0.199970\n",
              "std        25.440212\n",
              "min       -68.380000\n",
              "25%       -16.377500\n",
              "50%        -0.095000\n",
              "75%        16.072500\n",
              "max        72.760000\n",
              "Name: difference, dtype: float64"
            ]
          },
          "execution_count": 31,
          "metadata": {},
          "output_type": "execute_result"
        }
      ],
      "source": [
        "# Statistical summary of the difference, which is required for sample size determination\n",
        "\n",
        "sample_check['difference'].describe()"
      ]
    },
    {
      "cell_type": "code",
      "execution_count": 37,
      "metadata": {},
      "outputs": [
        {
          "data": {
            "text/plain": [
              "129479.71832319208"
            ]
          },
          "execution_count": 37,
          "metadata": {},
          "output_type": "execute_result"
        }
      ],
      "source": [
        "# Sample size test\n",
        "\n",
        "sample_size = 8*(25.440212**2)/ (0.199970**2)\n",
        "sample_size"
      ]
    },
    {
      "cell_type": "markdown",
      "metadata": {},
      "source": [
        "- After running the sample size test, it seems that the sample size is not sufficient to perform `A/B testing`. It's suggesting to take at least **129479.718** samples.\n",
        "- So, I have decided to use **13000** as final sample size to perform `A/B testing`."
      ]
    },
    {
      "cell_type": "code",
      "execution_count": 38,
      "metadata": {},
      "outputs": [],
      "source": [
        "# After calculating the sample size, I have taken the nearest round integer (13000) for carrying out the analysis.\n",
        "# Adjusting the sample size for a more robust analysis\n",
        "\n",
        "size = 13000\n",
        "\n",
        "active_grp = df[df['active'] == 1].sample(size, random_state=42)['diab_risk_percent'].reset_index(drop=True)\n",
        "inactive_grp = df[df['active'] == 0].sample(size, random_state=42)['diab_risk_percent'].reset_index(drop=True)"
      ]
    },
    {
      "cell_type": "code",
      "execution_count": 39,
      "metadata": {},
      "outputs": [
        {
          "data": {
            "text/html": [
              "<div>\n",
              "<style scoped>\n",
              "    .dataframe tbody tr th:only-of-type {\n",
              "        vertical-align: middle;\n",
              "    }\n",
              "\n",
              "    .dataframe tbody tr th {\n",
              "        vertical-align: top;\n",
              "    }\n",
              "\n",
              "    .dataframe thead th {\n",
              "        text-align: right;\n",
              "    }\n",
              "</style>\n",
              "<table border=\"1\" class=\"dataframe\">\n",
              "  <thead>\n",
              "    <tr style=\"text-align: right;\">\n",
              "      <th></th>\n",
              "      <th>phy_active</th>\n",
              "      <th>phy_inactive</th>\n",
              "      <th>difference</th>\n",
              "    </tr>\n",
              "  </thead>\n",
              "  <tbody>\n",
              "    <tr>\n",
              "      <th>0</th>\n",
              "      <td>14.01</td>\n",
              "      <td>13.43</td>\n",
              "      <td>0.58</td>\n",
              "    </tr>\n",
              "    <tr>\n",
              "      <th>1</th>\n",
              "      <td>29.70</td>\n",
              "      <td>13.79</td>\n",
              "      <td>15.91</td>\n",
              "    </tr>\n",
              "    <tr>\n",
              "      <th>2</th>\n",
              "      <td>52.13</td>\n",
              "      <td>22.98</td>\n",
              "      <td>29.15</td>\n",
              "    </tr>\n",
              "    <tr>\n",
              "      <th>3</th>\n",
              "      <td>49.16</td>\n",
              "      <td>6.15</td>\n",
              "      <td>43.01</td>\n",
              "    </tr>\n",
              "    <tr>\n",
              "      <th>4</th>\n",
              "      <td>12.13</td>\n",
              "      <td>36.96</td>\n",
              "      <td>-24.83</td>\n",
              "    </tr>\n",
              "  </tbody>\n",
              "</table>\n",
              "</div>"
            ],
            "text/plain": [
              "   phy_active  phy_inactive  difference\n",
              "0       14.01         13.43        0.58\n",
              "1       29.70         13.79       15.91\n",
              "2       52.13         22.98       29.15\n",
              "3       49.16          6.15       43.01\n",
              "4       12.13         36.96      -24.83"
            ]
          },
          "execution_count": 39,
          "metadata": {},
          "output_type": "execute_result"
        }
      ],
      "source": [
        "# Create a DataFrame with the two groups and their differences\n",
        "\n",
        "ab_df = pd.DataFrame({\n",
        "    'phy_active': active_grp,\n",
        "    'phy_inactive': inactive_grp\n",
        "})\n",
        "ab_df['difference'] = ab_df['phy_active'] - ab_df['phy_inactive']\n",
        "ab_df.head()"
      ]
    },
    {
      "cell_type": "code",
      "execution_count": 40,
      "metadata": {},
      "outputs": [
        {
          "name": "stderr",
          "output_type": "stream",
          "text": [
            "/Users/raihannasir/Documents/DA_AI/diabetes_risk/diabetes_risk/.venv/lib/python3.12/site-packages/scipy/stats/_axis_nan_policy.py:531: UserWarning: scipy.stats.shapiro: For N > 5000, computed p-value may not be accurate. Current N is 13000.\n",
            "  res = hypotest_fun_out(*samples, **kwds)\n"
          ]
        },
        {
          "data": {
            "text/html": [
              "<div>\n",
              "<style scoped>\n",
              "    .dataframe tbody tr th:only-of-type {\n",
              "        vertical-align: middle;\n",
              "    }\n",
              "\n",
              "    .dataframe tbody tr th {\n",
              "        vertical-align: top;\n",
              "    }\n",
              "\n",
              "    .dataframe thead th {\n",
              "        text-align: right;\n",
              "    }\n",
              "</style>\n",
              "<table border=\"1\" class=\"dataframe\">\n",
              "  <thead>\n",
              "    <tr style=\"text-align: right;\">\n",
              "      <th></th>\n",
              "      <th>W</th>\n",
              "      <th>pval</th>\n",
              "      <th>normal</th>\n",
              "    </tr>\n",
              "  </thead>\n",
              "  <tbody>\n",
              "    <tr>\n",
              "      <th>phy_active</th>\n",
              "      <td>0.922788</td>\n",
              "      <td>1.551095e-62</td>\n",
              "      <td>False</td>\n",
              "    </tr>\n",
              "    <tr>\n",
              "      <th>phy_inactive</th>\n",
              "      <td>0.923034</td>\n",
              "      <td>1.790491e-62</td>\n",
              "      <td>False</td>\n",
              "    </tr>\n",
              "    <tr>\n",
              "      <th>difference</th>\n",
              "      <td>0.997160</td>\n",
              "      <td>4.726642e-15</td>\n",
              "      <td>False</td>\n",
              "    </tr>\n",
              "  </tbody>\n",
              "</table>\n",
              "</div>"
            ],
            "text/plain": [
              "                     W          pval  normal\n",
              "phy_active    0.922788  1.551095e-62   False\n",
              "phy_inactive  0.923034  1.790491e-62   False\n",
              "difference    0.997160  4.726642e-15   False"
            ]
          },
          "execution_count": 40,
          "metadata": {},
          "output_type": "execute_result"
        }
      ],
      "source": [
        "pg.normality(data=ab_df, alpha=0.05)"
      ]
    },
    {
      "cell_type": "markdown",
      "metadata": {},
      "source": [
        "From the normality test, I see that the data is not normally distributed and **p-value** is less than `0.05`. Therefore, it is safe to say that **physically inactivity increases diabetes risk**. Since, two groups are independent non-normal group, I will use `Mann-Whitney U test` to perform the **A/B testing**."
      ]
    },
    {
      "cell_type": "code",
      "execution_count": 18,
      "metadata": {},
      "outputs": [
        {
          "data": {
            "text/html": [
              "<div>\n",
              "<style scoped>\n",
              "    .dataframe tbody tr th:only-of-type {\n",
              "        vertical-align: middle;\n",
              "    }\n",
              "\n",
              "    .dataframe tbody tr th {\n",
              "        vertical-align: top;\n",
              "    }\n",
              "\n",
              "    .dataframe thead th {\n",
              "        text-align: right;\n",
              "    }\n",
              "</style>\n",
              "<table border=\"1\" class=\"dataframe\">\n",
              "  <thead>\n",
              "    <tr style=\"text-align: right;\">\n",
              "      <th></th>\n",
              "      <th>U-val</th>\n",
              "      <th>alternative</th>\n",
              "      <th>p-val</th>\n",
              "      <th>RBC</th>\n",
              "      <th>CLES</th>\n",
              "    </tr>\n",
              "  </thead>\n",
              "  <tbody>\n",
              "    <tr>\n",
              "      <th>MWU</th>\n",
              "      <td>83215897.5</td>\n",
              "      <td>two-sided</td>\n",
              "      <td>0.033835</td>\n",
              "      <td>-0.015196</td>\n",
              "      <td>0.492402</td>\n",
              "    </tr>\n",
              "  </tbody>\n",
              "</table>\n",
              "</div>"
            ],
            "text/plain": [
              "          U-val alternative     p-val       RBC      CLES\n",
              "MWU  83215897.5   two-sided  0.033835 -0.015196  0.492402"
            ]
          },
          "execution_count": 18,
          "metadata": {},
          "output_type": "execute_result"
        }
      ],
      "source": [
        "# Since the data is not normally distributed, we will use the Mann-Whitney U test to compare the two independent groups.\n",
        "\n",
        "pg.mwu(x=ab_df['phy_active'], y=ab_df['phy_inactive'])"
      ]
    },
    {
      "cell_type": "markdown",
      "metadata": {},
      "source": [
        "As I can see here the **p-value** is `0.0338`, which quite less than `0.05`. So, I can reject ***Null Hypothesis (H<sub>0</sub>)*** and conclude that there is a significant difference in diabetes risk between physically active and inactive individuals."
      ]
    },
    {
      "cell_type": "code",
      "execution_count": 21,
      "metadata": {},
      "outputs": [
        {
          "data": {
            "image/png": "[encoded data removed]",
            "text/plain": [
              "<Figure size 1200x500 with 2 Axes>"
            ]
          },
          "metadata": {},
          "output_type": "display_data"
        },
        {
          "name": "stdout",
          "output_type": "stream",
          "text": [
            "\n",
            "\n",
            "\n"
          ]
        }
      ],
      "source": [
        "fig, axes = plt.subplots(nrows=1 ,ncols=2 ,figsize=(12,5))\n",
        "\n",
        "sns.histplot(data=ab_df, kde=True, ax=axes[0])\n",
        "sns.boxplot(data=ab_df, ax=axes[1])\n",
        "\n",
        "plt.show()\n",
        "print(\"\\n\\n\")"
      ]
    },
    {
      "cell_type": "markdown",
      "metadata": {},
      "source": [
        "## Visualization Analysis: Distribution of Diabetes Risk by Physical Activity\n",
        "\n",
        "The following plots provide a visual summary of the diabetes risk percentages for both physically active and inactive groups:\n",
        "\n",
        "- **Left Plot (Histogram with KDE):**\n",
        "  - This histogram overlays the distributions of diabetes risk percentages for both groups.\n",
        "  - The Kernel Density Estimate (KDE) curve helps visualize the underlying distribution shape.\n",
        "  - Both groups show a right-skewed distribution, indicating that most individuals have lower diabetes risk percentages, but there are some with much higher risk.\n",
        "  - The physically inactive group tends to have a slightly higher concentration of individuals with elevated diabetes risk compared to the active group.\n",
        "\n",
        "- **Right Plot (Boxplot):**\n",
        "  - The boxplot compares the spread and central tendency of diabetes risk percentages between the two groups.\n",
        "  - The median diabetes risk is visibly higher for the inactive group than for the active group.\n",
        "  - The interquartile range (IQR) is also wider for the inactive group, suggesting greater variability in risk.\n",
        "  - Outliers are present in both groups, but more pronounced in the inactive group, indicating some individuals with exceptionally high diabetes risk.\n",
        "\n",
        "**Interpretation:**\n",
        "- The visualizations support the statistical findings: physically inactive individuals generally have a higher and more variable diabetes risk compared to their active counterparts.\n",
        "- The difference in medians and the distribution shapes reinforce the conclusion that physical activity is associated with lower diabetes risk in this dataset.\n",
        "- These plots, combined with the Mann-Whitney U test results, provide strong evidence to reject the null hypothesis and highlight the importance of physical activity in diabetes risk reduction."
      ]
    },
    {
      "cell_type": "code",
      "execution_count": null,
      "metadata": {},
      "outputs": [],
      "source": []
    }
  ],
  "metadata": {
    "accelerator": "GPU",
    "colab": {
      "name": "Data Practitioner Jupyter Notebook.ipynb",
      "provenance": [],
      "toc_visible": true
    },
    "kernelspec": {
      "display_name": ".venv",
      "language": "python",
      "name": "python3"
    },
    "language_info": {
      "codemirror_mode": {
        "name": "ipython",
        "version": 3
      },
      "file_extension": ".py",
      "mimetype": "text/x-python",
      "name": "python",
      "nbconvert_exporter": "python",
      "pygments_lexer": "ipython3",
      "version": "3.12.8"
    },
    "orig_nbformat": 2
  },
  "nbformat": 4,
  "nbformat_minor": 2
}
