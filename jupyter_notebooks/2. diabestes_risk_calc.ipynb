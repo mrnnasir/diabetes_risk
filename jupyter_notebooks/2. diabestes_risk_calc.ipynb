{
  "cells": [
    {
      "cell_type": "markdown",
      "metadata": {
        "id": "0aStgWSO0E0E"
      },
      "source": [
        "# **Diabetes Risk Percentage**"
      ]
    },
    {
      "cell_type": "markdown",
      "metadata": {
        "id": "1eLEkw5O0ECa"
      },
      "source": [
        "## Objectives\n",
        "\n",
        "- Upload intially cleaned cardiovascular disease dataset\n",
        "- Calculate the risk percentage of diabetes based on the dataset using ChatGPT\n",
        "\n",
        "## Inputs\n",
        "\n",
        "- **Dataset:** cardio_data_processed_clean.csv\n",
        "- Required libraries: pandas, numpy, openai\n",
        "\n",
        "## Outputs\n",
        "\n",
        "- **Cleaned dataset:** cardio_data_with_diabetes_risk.csv is saved back to raw folder under dataset directory \n"
      ]
    },
    {
      "cell_type": "markdown",
      "metadata": {
        "id": "9uWZXH9LwoQg"
      },
      "source": [
        "---"
      ]
    },
    {
      "cell_type": "markdown",
      "metadata": {
        "id": "cqP-UeN-z3i2"
      },
      "source": [
        "# Change working directory"
      ]
    },
    {
      "cell_type": "markdown",
      "metadata": {},
      "source": [
        "* We are assuming you will store the notebooks in a subfolder, therefore when running the notebook in the editor, you will need to change the working directory"
      ]
    },
    {
      "cell_type": "markdown",
      "metadata": {
        "id": "aOGIGS-uz3i2"
      },
      "source": [
        "We need to change the working directory from its current folder to its parent folder\n",
        "* We access the current directory with os.getcwd()"
      ]
    },
    {
      "cell_type": "code",
      "execution_count": 1,
      "metadata": {
        "id": "wZfF_j-Bz3i4",
        "outputId": "66943449-1436-4c3d-85c7-b85f9f78349b"
      },
      "outputs": [
        {
          "data": {
            "text/plain": [
              "'/Users/raihannasir/Documents/DA_AI/diabetes_risk/diabetes_risk/jupyter_notebooks'"
            ]
          },
          "execution_count": 1,
          "metadata": {},
          "output_type": "execute_result"
        }
      ],
      "source": [
        "import os\n",
        "current_dir = os.getcwd()\n",
        "current_dir"
      ]
    },
    {
      "cell_type": "markdown",
      "metadata": {
        "id": "9MWW8E7lz3i7"
      },
      "source": [
        "We want to make the parent of the current directory the new current directory\n",
        "* os.path.dirname() gets the parent directory\n",
        "* os.chir() defines the new current directory"
      ]
    },
    {
      "cell_type": "code",
      "execution_count": 2,
      "metadata": {
        "id": "TwHsQRWjz3i9",
        "outputId": "86849db3-cd2f-4cc5-ebb8-2d0caafa1a2c"
      },
      "outputs": [
        {
          "name": "stdout",
          "output_type": "stream",
          "text": [
            "You set a new current directory\n"
          ]
        }
      ],
      "source": [
        "os.chdir(os.path.dirname(current_dir))\n",
        "print(\"You set a new current directory\")"
      ]
    },
    {
      "cell_type": "markdown",
      "metadata": {
        "id": "M_xPk_Ijz3i-"
      },
      "source": [
        "Confirm the new current directory"
      ]
    },
    {
      "cell_type": "code",
      "execution_count": 3,
      "metadata": {
        "id": "vz3S-_kjz3jA",
        "outputId": "00b79ae4-75d0-4a96-d193-ac9ef9847ea2"
      },
      "outputs": [
        {
          "data": {
            "text/plain": [
              "'/Users/raihannasir/Documents/DA_AI/diabetes_risk/diabetes_risk'"
            ]
          },
          "execution_count": 3,
          "metadata": {},
          "output_type": "execute_result"
        }
      ],
      "source": [
        "current_dir = os.getcwd()\n",
        "current_dir"
      ]
    },
    {
      "cell_type": "markdown",
      "metadata": {
        "id": "-mavJ8DibrcQ"
      },
      "source": [
        "## Load necessary libraries"
      ]
    },
    {
      "cell_type": "code",
      "execution_count": 4,
      "metadata": {},
      "outputs": [],
      "source": [
        "import pandas as pd\n",
        "import numpy as np"
      ]
    },
    {
      "cell_type": "code",
      "execution_count": 13,
      "metadata": {},
      "outputs": [],
      "source": [
        "raw_path = 'dataset/cleaned/cardio_data_processed_clean.csv'"
      ]
    },
    {
      "cell_type": "markdown",
      "metadata": {
        "id": "ZY3l0-AxO93d"
      },
      "source": [
        "---"
      ]
    },
    {
      "cell_type": "markdown",
      "metadata": {},
      "source": [
        "# Load cleaned cardiovascular disease dataset for diabetes risk percentage calculation\n"
      ]
    },
    {
      "cell_type": "code",
      "execution_count": 14,
      "metadata": {},
      "outputs": [],
      "source": [
        "df = pd.read_csv(raw_path)"
      ]
    },
    {
      "cell_type": "markdown",
      "metadata": {},
      "source": [
        "## Based on `bmi` column of the cardiovascular disease dataset, asked ChatGPT to calculate the risk percentage of diabetes"
      ]
    },
    {
      "cell_type": "code",
      "execution_count": null,
      "metadata": {},
      "outputs": [
        {
          "name": "stdout",
          "output_type": "stream",
          "text": [
            "✅ Diabetes risk added and file saved as 'cardio_data_with_diabetes_risk.csv'\n"
          ]
        }
      ],
      "source": [
        "# Code copied from the ChatGPT conversation\n",
        "\n",
        "# Define BMI category\n",
        "def get_bmi_category(bmi):\n",
        "    if bmi < 18.5:\n",
        "        return \"Underweight\"\n",
        "    elif 18.5 <= bmi < 25:\n",
        "        return \"Normal\"\n",
        "    elif 25 <= bmi < 30:\n",
        "        return \"Overweight\"\n",
        "    elif 30 <= bmi < 35:\n",
        "        return \"Obese I\"\n",
        "    elif 35 <= bmi < 40:\n",
        "        return \"Obese II\"\n",
        "    else:\n",
        "        return \"Obese III\"\n",
        "\n",
        "# Define age group\n",
        "def get_age_group(age):\n",
        "    if age < 30:\n",
        "        return \"18-29\"\n",
        "    elif age < 40:\n",
        "        return \"30-39\"\n",
        "    elif age < 50:\n",
        "        return \"40-49\"\n",
        "    elif age < 60:\n",
        "        return \"50-59\"\n",
        "    else:\n",
        "        return \"60+\"\n",
        "\n",
        "# Risk table including underweight\n",
        "risk_table = {\n",
        "    \"18-29\": {\n",
        "        \"Underweight\": (1, 2), \"Normal\": (2, 4), \"Overweight\": (5, 7),\n",
        "        \"Obese I\": (10, 15), \"Obese II\": (15, 20), \"Obese III\": (25, 35)\n",
        "    },\n",
        "    \"30-39\": {\n",
        "        \"Underweight\": (2, 3), \"Normal\": (5, 7), \"Overweight\": (10, 15),\n",
        "        \"Obese I\": (20, 25), \"Obese II\": (25, 35), \"Obese III\": (40, 50)\n",
        "    },\n",
        "    \"40-49\": {\n",
        "        \"Underweight\": (3, 5), \"Normal\": (10, 12), \"Overweight\": (20, 25),\n",
        "        \"Obese I\": (35, 45), \"Obese II\": (45, 55), \"Obese III\": (60, 70)\n",
        "    },\n",
        "    \"50-59\": {\n",
        "        \"Underweight\": (5, 7), \"Normal\": (15, 18), \"Overweight\": (30, 35),\n",
        "        \"Obese I\": (50, 60), \"Obese II\": (60, 70), \"Obese III\": (70, 80)\n",
        "    },\n",
        "    \"60+\": {\n",
        "        \"Underweight\": (7, 10), \"Normal\": (20, 25), \"Overweight\": (35, 45),\n",
        "        \"Obese I\": (55, 65), \"Obese II\": (65, 75), \"Obese III\": (75, 85)\n",
        "    }\n",
        "}\n",
        "\n",
        "# Add BMI category and age group\n",
        "df[\"bmi_category\"] = df[\"bmi\"].apply(get_bmi_category)\n",
        "df[\"age_group\"] = df[\"age\"].apply(get_age_group)\n",
        "\n",
        "# Compute risk\n",
        "def calculate_diabetes_risk(row):\n",
        "    risk_range = risk_table[row[\"age_group\"]][row[\"bmi_category\"]]\n",
        "    base_risk = np.random.uniform(*risk_range)\n",
        "    if row[\"gender\"] == 2:  # Female\n",
        "        return round(base_risk * np.random.uniform(0.85, 0.95), 2)\n",
        "    else:  # Male\n",
        "        return round(base_risk * np.random.uniform(0.95, 1.05), 2)\n",
        "\n",
        "df[\"diab_risk_percent\"] = df.apply(calculate_diabetes_risk, axis=1)\n"
      ]
    },
    {
      "cell_type": "markdown",
      "metadata": {},
      "source": [
        "## Save dateset with diabetes risk percentage to a new CSV file back to the raw folder under dataset directory"
      ]
    },
    {
      "cell_type": "code",
      "execution_count": 18,
      "metadata": {},
      "outputs": [
        {
          "name": "stdout",
          "output_type": "stream",
          "text": [
            "✅ Diabetes risk added and file saved as 'cardio_data_with_diabetes_risk.csv'\n"
          ]
        }
      ],
      "source": [
        "# Save to new CSV\n",
        "df.to_csv(\"dataset/raw/cardio_data_with_diabetes_risk.csv\", index=False)\n",
        "\n",
        "print(\"✅ Diabetes risk added and file saved as 'cardio_data_with_diabetes_risk.csv'\")"
      ]
    },
    {
      "cell_type": "code",
      "execution_count": null,
      "metadata": {},
      "outputs": [],
      "source": []
    }
  ],
  "metadata": {
    "accelerator": "GPU",
    "colab": {
      "name": "Data Practitioner Jupyter Notebook.ipynb",
      "provenance": [],
      "toc_visible": true
    },
    "kernelspec": {
      "display_name": ".venv",
      "language": "python",
      "name": "python3"
    },
    "language_info": {
      "codemirror_mode": {
        "name": "ipython",
        "version": 3
      },
      "file_extension": ".py",
      "mimetype": "text/x-python",
      "name": "python",
      "nbconvert_exporter": "python",
      "pygments_lexer": "ipython3",
      "version": "3.12.8"
    },
    "orig_nbformat": 2
  },
  "nbformat": 4,
  "nbformat_minor": 2
}
