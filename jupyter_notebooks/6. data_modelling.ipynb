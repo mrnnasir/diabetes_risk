{
  "cells": [
    {
      "cell_type": "markdown",
      "metadata": {
        "id": "0aStgWSO0E0E"
      },
      "source": [
        "# **Diabetes Risk Analysis - Data Modelling**"
      ]
    },
    {
      "cell_type": "markdown",
      "metadata": {
        "id": "1eLEkw5O0ECa"
      },
      "source": [
        "## Objectives\n",
        "\n",
        "- Predict the category of diabetes risk based on various health metrics for individuals.\n",
        "- Use machine learning models to classify individuals into low, medium, or high diabetes risk categories.\n",
        "- Evaluate model performance using accuracy, precision, recall, and F1-score metrics.\n",
        "- Visualize the results to understand the distribution of diabetes risk categories.\n",
        "\n",
        "## Inputs\n",
        "\n",
        "- Dataset: `cardio_data_with_diabetes_risk_clean.csv`\n",
        "\n",
        "## Outputs\n",
        "\n",
        "* Write here which files, code or artefacts you generate by the end of the notebook \n",
        "\n"
      ]
    },
    {
      "cell_type": "markdown",
      "metadata": {
        "id": "9uWZXH9LwoQg"
      },
      "source": [
        "---"
      ]
    },
    {
      "cell_type": "markdown",
      "metadata": {
        "id": "cqP-UeN-z3i2"
      },
      "source": [
        "# Change working directory"
      ]
    },
    {
      "cell_type": "markdown",
      "metadata": {},
      "source": [
        "* We are assuming you will store the notebooks in a subfolder, therefore when running the notebook in the editor, you will need to change the working directory"
      ]
    },
    {
      "cell_type": "markdown",
      "metadata": {
        "id": "aOGIGS-uz3i2"
      },
      "source": [
        "We need to change the working directory from its current folder to its parent folder\n",
        "* We access the current directory with os.getcwd()"
      ]
    },
    {
      "cell_type": "code",
      "execution_count": 2,
      "metadata": {
        "id": "wZfF_j-Bz3i4",
        "outputId": "66943449-1436-4c3d-85c7-b85f9f78349b"
      },
      "outputs": [
        {
          "data": {
            "text/plain": [
              "'/Users/raihannasir/Documents/DA_AI/diabetes_risk/diabetes_risk/jupyter_notebooks'"
            ]
          },
          "execution_count": 2,
          "metadata": {},
          "output_type": "execute_result"
        }
      ],
      "source": [
        "import os\n",
        "current_dir = os.getcwd()\n",
        "current_dir"
      ]
    },
    {
      "cell_type": "markdown",
      "metadata": {
        "id": "9MWW8E7lz3i7"
      },
      "source": [
        "We want to make the parent of the current directory the new current directory\n",
        "* os.path.dirname() gets the parent directory\n",
        "* os.chir() defines the new current directory"
      ]
    },
    {
      "cell_type": "code",
      "execution_count": 3,
      "metadata": {
        "id": "TwHsQRWjz3i9",
        "outputId": "86849db3-cd2f-4cc5-ebb8-2d0caafa1a2c"
      },
      "outputs": [
        {
          "name": "stdout",
          "output_type": "stream",
          "text": [
            "You set a new current directory\n"
          ]
        }
      ],
      "source": [
        "os.chdir(os.path.dirname(current_dir))\n",
        "print(\"You set a new current directory\")"
      ]
    },
    {
      "cell_type": "markdown",
      "metadata": {
        "id": "M_xPk_Ijz3i-"
      },
      "source": [
        "Confirm the new current directory"
      ]
    },
    {
      "cell_type": "code",
      "execution_count": 4,
      "metadata": {
        "id": "vz3S-_kjz3jA",
        "outputId": "00b79ae4-75d0-4a96-d193-ac9ef9847ea2"
      },
      "outputs": [
        {
          "data": {
            "text/plain": [
              "'/Users/raihannasir/Documents/DA_AI/diabetes_risk/diabetes_risk'"
            ]
          },
          "execution_count": 4,
          "metadata": {},
          "output_type": "execute_result"
        }
      ],
      "source": [
        "current_dir = os.getcwd()\n",
        "current_dir"
      ]
    },
    {
      "cell_type": "markdown",
      "metadata": {
        "id": "ZY3l0-AxO93d"
      },
      "source": [
        "---"
      ]
    },
    {
      "cell_type": "markdown",
      "metadata": {
        "id": "-mavJ8DibrcQ"
      },
      "source": [
        "## Load necessary libraries"
      ]
    },
    {
      "cell_type": "code",
      "execution_count": 35,
      "metadata": {},
      "outputs": [],
      "source": [
        "import pandas as pd\n",
        "import numpy as np\n",
        "import matplotlib.pyplot as plt\n",
        "import seaborn as sns\n",
        "\n",
        "# Importing necessary libraries for machine learning\n",
        "from sklearn.pipeline import Pipeline\n",
        "from sklearn.preprocessing import StandardScaler\n",
        "from sklearn.linear_model import LogisticRegression\n",
        "from sklearn.tree import DecisionTreeClassifier,plot_tree\n",
        "from sklearn.ensemble import RandomForestClassifier\n",
        "from sklearn.model_selection import train_test_split, cross_val_score, StratifiedKFold\n",
        "from sklearn.metrics import classification_report, confusion_matrix\n"
      ]
    },
    {
      "cell_type": "markdown",
      "metadata": {
        "id": "uFQo3ycuO-v6"
      },
      "source": [
        "## Load cleaned dataset for AB testing"
      ]
    },
    {
      "cell_type": "code",
      "execution_count": 36,
      "metadata": {},
      "outputs": [
        {
          "data": {
            "text/html": [
              "<div>\n",
              "<style scoped>\n",
              "    .dataframe tbody tr th:only-of-type {\n",
              "        vertical-align: middle;\n",
              "    }\n",
              "\n",
              "    .dataframe tbody tr th {\n",
              "        vertical-align: top;\n",
              "    }\n",
              "\n",
              "    .dataframe thead th {\n",
              "        text-align: right;\n",
              "    }\n",
              "</style>\n",
              "<table border=\"1\" class=\"dataframe\">\n",
              "  <thead>\n",
              "    <tr style=\"text-align: right;\">\n",
              "      <th></th>\n",
              "      <th>gender</th>\n",
              "      <th>height</th>\n",
              "      <th>weight</th>\n",
              "      <th>ap_hi</th>\n",
              "      <th>ap_lo</th>\n",
              "      <th>cholesterol</th>\n",
              "      <th>gluc</th>\n",
              "      <th>smoke</th>\n",
              "      <th>alco</th>\n",
              "      <th>active</th>\n",
              "      <th>...</th>\n",
              "      <th>age_group</th>\n",
              "      <th>bmi_category</th>\n",
              "      <th>age_simp_group</th>\n",
              "      <th>bmi_simp_cat</th>\n",
              "      <th>diab_risk_percent</th>\n",
              "      <th>diab_risk_cat</th>\n",
              "      <th>age_group_num</th>\n",
              "      <th>bmi_category_num</th>\n",
              "      <th>bp_category_num</th>\n",
              "      <th>diab_risk_cat_num</th>\n",
              "    </tr>\n",
              "  </thead>\n",
              "  <tbody>\n",
              "    <tr>\n",
              "      <th>0</th>\n",
              "      <td>2</td>\n",
              "      <td>168</td>\n",
              "      <td>4.127134</td>\n",
              "      <td>110</td>\n",
              "      <td>80</td>\n",
              "      <td>1</td>\n",
              "      <td>1</td>\n",
              "      <td>0</td>\n",
              "      <td>0</td>\n",
              "      <td>1</td>\n",
              "      <td>...</td>\n",
              "      <td>50-59</td>\n",
              "      <td>Normal</td>\n",
              "      <td>Middle-aged</td>\n",
              "      <td>Low BMI</td>\n",
              "      <td>16.15</td>\n",
              "      <td>Low Risk</td>\n",
              "      <td>3</td>\n",
              "      <td>1</td>\n",
              "      <td>2</td>\n",
              "      <td>0</td>\n",
              "    </tr>\n",
              "    <tr>\n",
              "      <th>1</th>\n",
              "      <td>1</td>\n",
              "      <td>156</td>\n",
              "      <td>4.442651</td>\n",
              "      <td>140</td>\n",
              "      <td>90</td>\n",
              "      <td>3</td>\n",
              "      <td>1</td>\n",
              "      <td>0</td>\n",
              "      <td>0</td>\n",
              "      <td>1</td>\n",
              "      <td>...</td>\n",
              "      <td>50-59</td>\n",
              "      <td>Obese I</td>\n",
              "      <td>Middle-aged</td>\n",
              "      <td>Mid BMI</td>\n",
              "      <td>57.50</td>\n",
              "      <td>High Risk</td>\n",
              "      <td>3</td>\n",
              "      <td>3</td>\n",
              "      <td>3</td>\n",
              "      <td>2</td>\n",
              "    </tr>\n",
              "    <tr>\n",
              "      <th>2</th>\n",
              "      <td>1</td>\n",
              "      <td>165</td>\n",
              "      <td>4.158883</td>\n",
              "      <td>130</td>\n",
              "      <td>70</td>\n",
              "      <td>3</td>\n",
              "      <td>1</td>\n",
              "      <td>0</td>\n",
              "      <td>0</td>\n",
              "      <td>0</td>\n",
              "      <td>...</td>\n",
              "      <td>50-59</td>\n",
              "      <td>Normal</td>\n",
              "      <td>Middle-aged</td>\n",
              "      <td>Low BMI</td>\n",
              "      <td>18.21</td>\n",
              "      <td>Low Risk</td>\n",
              "      <td>3</td>\n",
              "      <td>1</td>\n",
              "      <td>2</td>\n",
              "      <td>0</td>\n",
              "    </tr>\n",
              "    <tr>\n",
              "      <th>3</th>\n",
              "      <td>2</td>\n",
              "      <td>169</td>\n",
              "      <td>4.406719</td>\n",
              "      <td>150</td>\n",
              "      <td>100</td>\n",
              "      <td>1</td>\n",
              "      <td>1</td>\n",
              "      <td>0</td>\n",
              "      <td>0</td>\n",
              "      <td>1</td>\n",
              "      <td>...</td>\n",
              "      <td>40-49</td>\n",
              "      <td>Overweight</td>\n",
              "      <td>Middle-aged</td>\n",
              "      <td>Mid BMI</td>\n",
              "      <td>19.62</td>\n",
              "      <td>Low Risk</td>\n",
              "      <td>2</td>\n",
              "      <td>2</td>\n",
              "      <td>3</td>\n",
              "      <td>0</td>\n",
              "    </tr>\n",
              "    <tr>\n",
              "      <th>4</th>\n",
              "      <td>1</td>\n",
              "      <td>156</td>\n",
              "      <td>4.025352</td>\n",
              "      <td>100</td>\n",
              "      <td>60</td>\n",
              "      <td>1</td>\n",
              "      <td>1</td>\n",
              "      <td>0</td>\n",
              "      <td>0</td>\n",
              "      <td>0</td>\n",
              "      <td>...</td>\n",
              "      <td>40-49</td>\n",
              "      <td>Normal</td>\n",
              "      <td>Middle-aged</td>\n",
              "      <td>Low BMI</td>\n",
              "      <td>9.76</td>\n",
              "      <td>Low Risk</td>\n",
              "      <td>2</td>\n",
              "      <td>1</td>\n",
              "      <td>0</td>\n",
              "      <td>0</td>\n",
              "    </tr>\n",
              "  </tbody>\n",
              "</table>\n",
              "<p>5 rows × 24 columns</p>\n",
              "</div>"
            ],
            "text/plain": [
              "   gender  height    weight  ap_hi  ap_lo  cholesterol  gluc  smoke  alco  \\\n",
              "0       2     168  4.127134    110     80            1     1      0     0   \n",
              "1       1     156  4.442651    140     90            3     1      0     0   \n",
              "2       1     165  4.158883    130     70            3     1      0     0   \n",
              "3       2     169  4.406719    150    100            1     1      0     0   \n",
              "4       1     156  4.025352    100     60            1     1      0     0   \n",
              "\n",
              "   active  ...  age_group  bmi_category  age_simp_group bmi_simp_cat  \\\n",
              "0       1  ...      50-59        Normal     Middle-aged      Low BMI   \n",
              "1       1  ...      50-59       Obese I     Middle-aged      Mid BMI   \n",
              "2       0  ...      50-59        Normal     Middle-aged      Low BMI   \n",
              "3       1  ...      40-49    Overweight     Middle-aged      Mid BMI   \n",
              "4       0  ...      40-49        Normal     Middle-aged      Low BMI   \n",
              "\n",
              "  diab_risk_percent diab_risk_cat age_group_num bmi_category_num  \\\n",
              "0             16.15      Low Risk             3                1   \n",
              "1             57.50     High Risk             3                3   \n",
              "2             18.21      Low Risk             3                1   \n",
              "3             19.62      Low Risk             2                2   \n",
              "4              9.76      Low Risk             2                1   \n",
              "\n",
              "   bp_category_num diab_risk_cat_num  \n",
              "0                2                 0  \n",
              "1                3                 2  \n",
              "2                2                 0  \n",
              "3                3                 0  \n",
              "4                0                 0  \n",
              "\n",
              "[5 rows x 24 columns]"
            ]
          },
          "execution_count": 36,
          "metadata": {},
          "output_type": "execute_result"
        }
      ],
      "source": [
        "path = 'dataset/cleaned/cardio_data_with_diabetes_risk_clean.csv'\n",
        "df = pd.read_csv(path)\n",
        "df.head()"
      ]
    },
    {
      "cell_type": "markdown",
      "metadata": {},
      "source": [
        "---"
      ]
    },
    {
      "cell_type": "markdown",
      "metadata": {},
      "source": [
        "**Split the dataset into Training and Testing sets as a preparation for model training**\n",
        "\n",
        "- **Training Set**: 80% of the data, used to train the model.\n",
        "- **Testing Set**: 20% of the data, used to evaluate the model's performance."
      ]
    },
    {
      "cell_type": "code",
      "execution_count": 37,
      "metadata": {},
      "outputs": [
        {
          "data": {
            "text/plain": [
              "((54564, 5), (13641, 5), (54564,), (13641,))"
            ]
          },
          "execution_count": 37,
          "metadata": {},
          "output_type": "execute_result"
        }
      ],
      "source": [
        "# Load the dataset\n",
        "X = df[['age_group_num', 'bmi_category_num', 'bp_category_num', 'active', 'gender']]\n",
        "y = df['diab_risk_cat_num']\n",
        "\n",
        "# Train/Test split\n",
        "\n",
        "X_train, X_test, y_train, y_test = train_test_split(X, y, test_size=0.2, random_state=42)\n",
        "\n",
        "X_train.shape, X_test.shape, y_train.shape, y_test.shape"
      ]
    },
    {
      "cell_type": "markdown",
      "metadata": {},
      "source": [
        "## Cross-Validation\n",
        "\n",
        "***Cross-validation is a powerful method used in machine learning to evaluate the performance of a model on unseen data. It works by partitioning the training data into multiple subsets, training the model on some subsets and validating it on others. This process helps in assessing how the model is likely to perform on independent data.***\n",
        "\n",
        "## StratifiedKFold\n",
        "Since regular ***KFold*** doesn't ensure that each fold has the same proportion of class labels as the full dataset — which may lead to `biased performance` estimates when classes are imbalanced.\n",
        "\n",
        "`StratifiedKFold` addresses this issue by preserving the percentage of samples for each class in each fold. This is particularly important for imbalanced datasets, where some classes may be underrepresented.\n",
        "\n",
        "Since my **Target** column classes are imbalanced, I will use `StratifiedKFold` for cross-validation."
      ]
    },
    {
      "cell_type": "code",
      "execution_count": 38,
      "metadata": {},
      "outputs": [
        {
          "name": "stdout",
          "output_type": "stream",
          "text": [
            "Model: Logistic Regression\n",
            "Cross-Validation Scores: [0.9414 0.9393 0.9389 0.9361 0.941 ]\n",
            "Mean Accuracy: 0.9394\n",
            "Standard Deviation: 0.0019\n",
            "\n",
            "Model: Decision Tree\n",
            "Cross-Validation Scores: [0.9454 0.9425 0.9426 0.9414 0.9453]\n",
            "Mean Accuracy: 0.9435\n",
            "Standard Deviation: 0.0016\n",
            "\n",
            "Model: Random Forest\n",
            "Cross-Validation Scores: [0.9457 0.9428 0.9426 0.9415 0.9453]\n",
            "Mean Accuracy: 0.9436\n",
            "Standard Deviation: 0.0016\n",
            "\n"
          ]
        }
      ],
      "source": [
        "models = {\n",
        "    'Logistic Regression' : LogisticRegression(max_iter=1000, random_state=42),\n",
        "    'Decision Tree' : DecisionTreeClassifier(random_state=42),\n",
        "    'Random Forest' : RandomForestClassifier(random_state=42)\n",
        "}\n",
        "\n",
        "# Set up StratifiedKFold cross-validation\n",
        "skfold = StratifiedKFold(n_splits=5, shuffle=True, random_state=42) # 5-fold cross-validation\n",
        "\n",
        "for type, model in models.items():\n",
        "    # Create a pipeline with scaling and the model\n",
        "    model_pipe = Pipeline([\n",
        "        ('scaler', StandardScaler()),  # Standardize features\n",
        "        ('model', model)               # Add the classifier\n",
        "    ])\n",
        "\n",
        "    # Perform cross-validation and get accuracy scores\n",
        "    cross_val_performance = cross_val_score(model_pipe, X_train, y_train, cv=skfold, scoring='accuracy')\n",
        "\n",
        "    print(f\"Model: {type}\")\n",
        "    print(f\"Cross-Validation Scores: {np.round(cross_val_performance, 4)}\")  # Print scores for each fold\n",
        "    print(f\"Mean Accuracy: {cross_val_performance.mean():.4f}\")              # Print mean accuracy\n",
        "    print(f\"Standard Deviation: {cross_val_performance.std():.4f}\\n\")        # Print std deviation"
      ]
    },
    {
      "cell_type": "markdown",
      "metadata": {},
      "source": [
        "***Model Performance Comparison***\n",
        "\n",
        "| **Model**               | **Fold Scores (Accuracy)**                | **Mean Accuracy** | **Std. Deviation** | **Notes**                                                                                                                             |\n",
        "| ----------------------- | ----------------------------------------- | ----------------- | ------------------ | ------------------------------------------------------------------------------------------------------------------------------------- |\n",
        "| **Logistic Regression** | \\[0.9414, 0.9393, 0.9389, 0.9361, 0.9410] | 0.9394            | 0.0019             | Slightly lower accuracy; very consistent; great for interpretability; linear model performs well, indicating clean or separable data. |\n",
        "| **Decision Tree**       | \\[0.9454, 0.9425, 0.9426, 0.9414, 0.9453] | 0.9435            | 0.0016             | Strong performance and stability; simple tree model captures relationships well; may overfit slightly without pruning.                |\n",
        "| **Random Forest**       | \\[0.9457, 0.9428, 0.9426, 0.9415, 0.9453] | 0.9436            | 0.0016             | Best performance overall; extremely stable; ensemble model reduces overfitting risk and captures complex patterns effectively.        |\n",
        "\n",
        "***Stability***\n",
        "- Standard Deviation measures variability of accuracy across folds — lower values indicate more consistent performance.\n",
        "- All models show very low std deviations (~0.0016 to 0.0019), indicating high stability across the different folds.\n",
        "-Random Forest and Decision Tree have slightly better stability (0.0016) compared to Logistic Regression (0.0019).\n",
        "\n",
        "***Insights and Summary***\n",
        "- Random Forest achieves the highest mean accuracy (0.9436), but only marginally better than Decision Tree (0.9435). The difference is minimal, suggesting both ensemble and single-tree methods perform very well on this data.\n",
        "- Logistic Regression has a slightly lower mean accuracy (0.9394), still very strong but a bit behind the tree-based models.\n",
        "- Given the tiny standard deviations for all models, performance estimates are reliable and consistent across folds.\n",
        "- Since Decision Tree and Random Forest have similar performance but Random Forest is an ensemble method (generally more robust to overfitting), Random Forest may be preferable if interpretability is less critical.\n",
        "- Logistic Regression’s competitive accuracy indicates the data may be reasonably linearly separable or that the features scaled well with the model."
      ]
    },
    {
      "cell_type": "markdown",
      "metadata": {},
      "source": [
        "## Random Forest Classifier\n",
        "\n",
        "As I can see from the model performance comparison, the Random Forest Classifier has the highest mean accuracy and stability. Therefore, I will use it for further analysis."
      ]
    },
    {
      "cell_type": "code",
      "execution_count": 39,
      "metadata": {},
      "outputs": [
        {
          "data": {
            "text/html": [
              "<style>#sk-container-id-2 {color: black;}#sk-container-id-2 pre{padding: 0;}#sk-container-id-2 div.sk-toggleable {background-color: white;}#sk-container-id-2 label.sk-toggleable__label {cursor: pointer;display: block;width: 100%;margin-bottom: 0;padding: 0.3em;box-sizing: border-box;text-align: center;}#sk-container-id-2 label.sk-toggleable__label-arrow:before {content: \"▸\";float: left;margin-right: 0.25em;color: #696969;}#sk-container-id-2 label.sk-toggleable__label-arrow:hover:before {color: black;}#sk-container-id-2 div.sk-estimator:hover label.sk-toggleable__label-arrow:before {color: black;}#sk-container-id-2 div.sk-toggleable__content {max-height: 0;max-width: 0;overflow: hidden;text-align: left;background-color: #f0f8ff;}#sk-container-id-2 div.sk-toggleable__content pre {margin: 0.2em;color: black;border-radius: 0.25em;background-color: #f0f8ff;}#sk-container-id-2 input.sk-toggleable__control:checked~div.sk-toggleable__content {max-height: 200px;max-width: 100%;overflow: auto;}#sk-container-id-2 input.sk-toggleable__control:checked~label.sk-toggleable__label-arrow:before {content: \"▾\";}#sk-container-id-2 div.sk-estimator input.sk-toggleable__control:checked~label.sk-toggleable__label {background-color: #d4ebff;}#sk-container-id-2 div.sk-label input.sk-toggleable__control:checked~label.sk-toggleable__label {background-color: #d4ebff;}#sk-container-id-2 input.sk-hidden--visually {border: 0;clip: rect(1px 1px 1px 1px);clip: rect(1px, 1px, 1px, 1px);height: 1px;margin: -1px;overflow: hidden;padding: 0;position: absolute;width: 1px;}#sk-container-id-2 div.sk-estimator {font-family: monospace;background-color: #f0f8ff;border: 1px dotted black;border-radius: 0.25em;box-sizing: border-box;margin-bottom: 0.5em;}#sk-container-id-2 div.sk-estimator:hover {background-color: #d4ebff;}#sk-container-id-2 div.sk-parallel-item::after {content: \"\";width: 100%;border-bottom: 1px solid gray;flex-grow: 1;}#sk-container-id-2 div.sk-label:hover label.sk-toggleable__label {background-color: #d4ebff;}#sk-container-id-2 div.sk-serial::before {content: \"\";position: absolute;border-left: 1px solid gray;box-sizing: border-box;top: 0;bottom: 0;left: 50%;z-index: 0;}#sk-container-id-2 div.sk-serial {display: flex;flex-direction: column;align-items: center;background-color: white;padding-right: 0.2em;padding-left: 0.2em;position: relative;}#sk-container-id-2 div.sk-item {position: relative;z-index: 1;}#sk-container-id-2 div.sk-parallel {display: flex;align-items: stretch;justify-content: center;background-color: white;position: relative;}#sk-container-id-2 div.sk-item::before, #sk-container-id-2 div.sk-parallel-item::before {content: \"\";position: absolute;border-left: 1px solid gray;box-sizing: border-box;top: 0;bottom: 0;left: 50%;z-index: -1;}#sk-container-id-2 div.sk-parallel-item {display: flex;flex-direction: column;z-index: 1;position: relative;background-color: white;}#sk-container-id-2 div.sk-parallel-item:first-child::after {align-self: flex-end;width: 50%;}#sk-container-id-2 div.sk-parallel-item:last-child::after {align-self: flex-start;width: 50%;}#sk-container-id-2 div.sk-parallel-item:only-child::after {width: 0;}#sk-container-id-2 div.sk-dashed-wrapped {border: 1px dashed gray;margin: 0 0.4em 0.5em 0.4em;box-sizing: border-box;padding-bottom: 0.4em;background-color: white;}#sk-container-id-2 div.sk-label label {font-family: monospace;font-weight: bold;display: inline-block;line-height: 1.2em;}#sk-container-id-2 div.sk-label-container {text-align: center;}#sk-container-id-2 div.sk-container {/* jupyter's `normalize.less` sets `[hidden] { display: none; }` but bootstrap.min.css set `[hidden] { display: none !important; }` so we also need the `!important` here to be able to override the default hidden behavior on the sphinx rendered scikit-learn.org. See: https://github.com/scikit-learn/scikit-learn/issues/21755 */display: inline-block !important;position: relative;}#sk-container-id-2 div.sk-text-repr-fallback {display: none;}</style><div id=\"sk-container-id-2\" class=\"sk-top-container\"><div class=\"sk-text-repr-fallback\"><pre>Pipeline(steps=[(&#x27;scaler&#x27;, StandardScaler()),\n",
              "                (&#x27;model&#x27;, RandomForestClassifier(random_state=42))])</pre><b>In a Jupyter environment, please rerun this cell to show the HTML representation or trust the notebook. <br />On GitHub, the HTML representation is unable to render, please try loading this page with nbviewer.org.</b></div><div class=\"sk-container\" hidden><div class=\"sk-item sk-dashed-wrapped\"><div class=\"sk-label-container\"><div class=\"sk-label sk-toggleable\"><input class=\"sk-toggleable__control sk-hidden--visually\" id=\"sk-estimator-id-4\" type=\"checkbox\" ><label for=\"sk-estimator-id-4\" class=\"sk-toggleable__label sk-toggleable__label-arrow\">Pipeline</label><div class=\"sk-toggleable__content\"><pre>Pipeline(steps=[(&#x27;scaler&#x27;, StandardScaler()),\n",
              "                (&#x27;model&#x27;, RandomForestClassifier(random_state=42))])</pre></div></div></div><div class=\"sk-serial\"><div class=\"sk-item\"><div class=\"sk-estimator sk-toggleable\"><input class=\"sk-toggleable__control sk-hidden--visually\" id=\"sk-estimator-id-5\" type=\"checkbox\" ><label for=\"sk-estimator-id-5\" class=\"sk-toggleable__label sk-toggleable__label-arrow\">StandardScaler</label><div class=\"sk-toggleable__content\"><pre>StandardScaler()</pre></div></div></div><div class=\"sk-item\"><div class=\"sk-estimator sk-toggleable\"><input class=\"sk-toggleable__control sk-hidden--visually\" id=\"sk-estimator-id-6\" type=\"checkbox\" ><label for=\"sk-estimator-id-6\" class=\"sk-toggleable__label sk-toggleable__label-arrow\">RandomForestClassifier</label><div class=\"sk-toggleable__content\"><pre>RandomForestClassifier(random_state=42)</pre></div></div></div></div></div></div></div>"
            ],
            "text/plain": [
              "Pipeline(steps=[('scaler', StandardScaler()),\n",
              "                ('model', RandomForestClassifier(random_state=42))])"
            ]
          },
          "execution_count": 39,
          "metadata": {},
          "output_type": "execute_result"
        }
      ],
      "source": [
        "# Define a function to create a pipeline with feature scaling and Random Forest classifier\n",
        "def create_rf_pipeline():\n",
        "    # Create a pipeline with feature scaling and Random Forest classifier\n",
        "    pipe = Pipeline([\n",
        "        ('scaler', StandardScaler()),  # Standardize features\n",
        "        ('model', RandomForestClassifier(n_estimators=100, random_state=42))  # Random Forest with 100 trees\n",
        "    ])\n",
        "    return pipe\n",
        "\n",
        "rf_model = create_rf_pipeline()  # Initialize the pipeline\n",
        "rf_model.fit(X_train, y_train)   # Fit the pipeline on the training data"
      ]
    },
    {
      "cell_type": "code",
      "execution_count": 40,
      "metadata": {},
      "outputs": [
        {
          "data": {
            "text/plain": [
              "array([1, 2, 1, ..., 1, 2, 1])"
            ]
          },
          "execution_count": 40,
          "metadata": {},
          "output_type": "execute_result"
        }
      ],
      "source": [
        "# Evaluate the Random Forest model on the test set\n",
        "rf_predictions = rf_model.predict(X_test)  # Make predictions on the test set\n",
        "rf_predictions"
      ]
    },
    {
      "cell_type": "code",
      "execution_count": 41,
      "metadata": {},
      "outputs": [
        {
          "name": "stdout",
          "output_type": "stream",
          "text": [
            "Random Forest Model Performance: ['0', '1', '2']\n",
            "Confusion Matrix:\n",
            " [[4480  450    0]\n",
            " [  22 6039  145]\n",
            " [   0  163 2342]]\n",
            "Classification Report:\n",
            "               precision    recall  f1-score   support\n",
            "\n",
            "           0       1.00      0.91      0.95      4930\n",
            "           1       0.91      0.97      0.94      6206\n",
            "           2       0.94      0.93      0.94      2505\n",
            "\n",
            "    accuracy                           0.94     13641\n",
            "   macro avg       0.95      0.94      0.94     13641\n",
            "weighted avg       0.95      0.94      0.94     13641\n",
            "\n"
          ]
        }
      ],
      "source": [
        "rf_ClassificationReport = classification_report(\n",
        "    y_test, \n",
        "    rf_predictions, \n",
        "    target_names=[str(cls) for cls in sorted(y.unique())]\n",
        "    )\n",
        "\n",
        "rf_ConfusionMatrix = confusion_matrix(\n",
        "    y_test, \n",
        "    rf_predictions\n",
        ")\n",
        "\n",
        "target_names = [str(cls) for cls in sorted(y.unique())]\n",
        "print(\"Random Forest Model Performance:\", target_names)\n",
        "\n",
        "print(\"Confusion Matrix:\\n\", rf_ConfusionMatrix)\n",
        "print(\"Classification Report:\\n\", rf_ClassificationReport)"
      ]
    },
    {
      "cell_type": "markdown",
      "metadata": {},
      "source": [
        "**<u>Confusion Matrix</u>**\n",
        "\n",
        "*Class 0:*\n",
        "\n",
        "- 4,480 correctly predicted as class 0.\n",
        "- 450 misclassified as class 1.\n",
        "- None misclassified as class 2.\n",
        "\n",
        "*Class 1:*\n",
        "\n",
        "- 6,039 correctly predicted.\n",
        "- 22 misclassified as class 0.\n",
        "- 145 misclassified as class 2.\n",
        "\n",
        "*Class 2:*\n",
        "\n",
        "- 2,342 correctly predicted.\n",
        "- 163 misclassified as class 1.\n",
        "- None misclassified as class 0.\n",
        "\n",
        "**<u>Classification Report</u>**\n",
        "\n",
        "***Key Insights:***\n",
        "\n",
        "**Overall Performance**\n",
        "\n",
        "- Accuracy = 94% — excellent overall performance on the test set.\n",
        "- Macro Avg (0.94) and Weighted Avg (0.94) F1-scores indicate strong balance and consistency across all classes.\n",
        "\n",
        "**Class-wise Analysis**\n",
        "* Class 0 (Precision = 1.00, Recall = 0.91):\n",
        "    - Very precise (almost no false positives), but some false negatives (450 instances were misclassified as class 1).\n",
        "    - Suggests that when the model predicts class 0, it's nearly always correct — but it's sometimes too cautious in assigning class 0.\n",
        "* Class 1 (Precision = 0.91, Recall = 0.97):\n",
        "    - High recall — most actual class 1s were caught.\n",
        "    - A bit lower precision — some class 1 predictions were actually class 0 or 2.\n",
        "    - Suggests the model may overpredict class 1 in some edge cases.\n",
        "* Class 2 (Precision = 0.94, Recall = 0.93):\n",
        "    - Balanced performance, with some misclassifications into class 1.\n",
        "    - Overall strong in identifying and predicting this class.\n",
        "\n",
        "**Summary**\n",
        "\n",
        "The model demonstrates excellent overall performance with a high accuracy of 94% and balanced precision, recall, and F1-scores across all classes. Class 0 predictions are extremely precise but slightly under-recalled, indicating some missed true positives, while class 1 and 2 are both well-classified with minor confusion between neighboring classes. Overall, the model is stable, reliable, and suitable for deployment with minimal performance concerns."
      ]
    },
    {
      "cell_type": "markdown",
      "metadata": {},
      "source": [
        "## Confusion Matrix and Classification Report Visualization"
      ]
    },
    {
      "cell_type": "code",
      "execution_count": 42,
      "metadata": {},
      "outputs": [
        {
          "data": {
            "image/png": "[encoded data removed]",
            "text/plain": [
              "<Figure size 1000x600 with 2 Axes>"
            ]
          },
          "metadata": {},
          "output_type": "display_data"
        }
      ],
      "source": [
        "# Plotting the confusion matrix using seaborn heatmap\n",
        "\n",
        "plt.figure(figsize=(10, 6))\n",
        "sns.heatmap(\n",
        "    data=rf_ConfusionMatrix,\n",
        "    annot=True,\n",
        "    fmt='d',\n",
        "    cmap='Blues',\n",
        "    xticklabels = target_names,\n",
        "    yticklabels = target_names)\n",
        "plt.title('Confusion Matrix for Random Forest Classifier')\n",
        "plt.xlabel('Predicted')\n",
        "plt.ylabel('Actual')\n",
        "plt.tight_layout()\n",
        "plt.show()"
      ]
    },
    {
      "cell_type": "code",
      "execution_count": 43,
      "metadata": {},
      "outputs": [
        {
          "data": {
            "image/png": "[encoded data removed]",
            "text/plain": [
              "<Figure size 800x600 with 1 Axes>"
            ]
          },
          "metadata": {},
          "output_type": "display_data"
        }
      ],
      "source": [
        "# Plotting the classification report metrics for Random Forest Classifier\n",
        "\n",
        "# Generate classification report as a dictionary\n",
        "report_dict = classification_report(y_test, rf_predictions, output_dict=True)\n",
        "\n",
        "# Convert to DataFrame for easier plotting\n",
        "report_df = pd.DataFrame(report_dict).transpose()\n",
        "\n",
        "# Filter out the classes only (exclude avg/accuracy rows)\n",
        "class_scores = report_df.iloc[:-3, :][['precision', 'recall', 'f1-score']]\n",
        "\n",
        "# Plot\n",
        "class_scores.plot(kind='bar', figsize=(8, 6))\n",
        "plt.title('Classification Report Metrics')\n",
        "plt.xlabel('Class Label')\n",
        "plt.ylabel('Score')\n",
        "plt.ylim(0.8, 1.05)\n",
        "plt.xticks(rotation=0)\n",
        "plt.grid(axis='y', linestyle='--', alpha=0.7)\n",
        "plt.legend(loc='lower right')\n",
        "plt.tight_layout()\n",
        "plt.show()\n"
      ]
    },
    {
      "cell_type": "code",
      "execution_count": null,
      "metadata": {},
      "outputs": [],
      "source": []
    }
  ],
  "metadata": {
    "accelerator": "GPU",
    "colab": {
      "name": "Data Practitioner Jupyter Notebook.ipynb",
      "provenance": [],
      "toc_visible": true
    },
    "kernelspec": {
      "display_name": ".venv",
      "language": "python",
      "name": "python3"
    },
    "language_info": {
      "codemirror_mode": {
        "name": "ipython",
        "version": 3
      },
      "file_extension": ".py",
      "mimetype": "text/x-python",
      "name": "python",
      "nbconvert_exporter": "python",
      "pygments_lexer": "ipython3",
      "version": "3.12.8"
    },
    "orig_nbformat": 2
  },
  "nbformat": 4,
  "nbformat_minor": 2
}
